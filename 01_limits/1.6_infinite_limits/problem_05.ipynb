{
 "cells": [
  {
   "cell_type": "markdown",
   "id": "9c8e9409-664d-4fa2-a400-faccf8b73ce2",
   "metadata": {},
   "source": [
    "### **Problems**\n",
    "\n",
    "For \n",
    "$$ \n",
    "h(x) = ln(-x)\n",
    "$$ \n",
    "evaluate,\n",
    "\n",
    "(a) $\\lim_{x \\to 0^-} g(x)$  \n",
    "(b) $\\lim_{x \\to 0^+} g(x)$  \n",
    "(c) $\\lim_{x \\to 0} g(x)$  \n"
   ]
  },
  {
   "cell_type": "markdown",
   "id": "93ef884b-cb63-4d49-a70a-3b40e28c0778",
   "metadata": {},
   "source": [
    "---\n",
    "\n",
    "### **Solutions**\n",
    "\n",
    "For  \n",
    "$$\n",
    "h(x) = \\ln(-x).\n",
    "$$\n",
    "\n",
    "\n",
    "#### (a) $\\lim_{x \\to 0^-} h(x)$  \n",
    "\n",
    "As $x \\to 0^-$ we have $x<0$.  \n",
    "- Then $-x > 0$, so $\\ln(-x)$ is defined.  \n",
    "- As $x \\to 0^-$, $-x \\to 0^+$, so  \n",
    "  $$\n",
    "  \\ln(-x) \\to -\\infty.\n",
    "  $$\n",
    "\n",
    "Thus,  \n",
    "$$\n",
    "\\boxed{\\lim_{x \\to 0^-} h(x) = -\\infty}\n",
    "$$\n",
    "\n",
    "\n",
    "#### (b) $\\lim_{x \\to 0^+} h(x)$  \n",
    "\n",
    "As $x \\to 0^+$ we have $x>0$.  \n",
    "- Then $-x < 0$, and $\\ln(-x)$ is **not defined** in the reals.  \n",
    "\n",
    "So,  \n",
    "$$\n",
    "\\boxed{\\lim_{x \\to 0^+} h(x) \\ \\text{does not exist (undefined in reals)}}\n",
    "$$\n",
    "\n",
    "\n",
    "#### (c) $\\lim_{x \\to 0} h(x)$  \n",
    "\n",
    "Since the left-hand limit is $-\\infty$ and the right-hand limit does not exist in the real numbers,  \n",
    "the two-sided limit does not exist:  \n",
    "$$\n",
    "\\boxed{\\lim_{x \\to 0} h(x)\\ \\text{does not exist (DNE).}}\n",
    "$$\n",
    "\n",
    "**Conclusion:** $h(x) = \\ln(-x)$ is only defined for $x<0$, and as $x\\to 0^-$ the function goes to $-\\infty$. There is no real limit from the right.\n"
   ]
  }
 ],
 "metadata": {
  "kernelspec": {
   "display_name": "Python 3 (ipykernel)",
   "language": "python",
   "name": "python3"
  },
  "language_info": {
   "codemirror_mode": {
    "name": "ipython",
    "version": 3
   },
   "file_extension": ".py",
   "mimetype": "text/x-python",
   "name": "python",
   "nbconvert_exporter": "python",
   "pygments_lexer": "ipython3",
   "version": "3.12.6"
  }
 },
 "nbformat": 4,
 "nbformat_minor": 5
}
