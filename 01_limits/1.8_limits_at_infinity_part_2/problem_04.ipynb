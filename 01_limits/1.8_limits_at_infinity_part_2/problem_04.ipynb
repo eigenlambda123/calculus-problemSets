{
 "cells": [
  {
   "cell_type": "markdown",
   "id": "10537c73-cb48-4a1b-9ff4-dd4b13be1164",
   "metadata": {},
   "source": [
    "### **Problems**\n",
    "\n",
    "$4. \\text{For } f(x) = ee^{-x} - 8e^{-5x} - e^{10x} \\text{ evaluate each of the following limits.}$\n",
    "\n",
    "(a) $\\lim_{x \\to -\\infty} f(x)$  \n",
    "(b) $\\lim_{x \\to \\infty} f(x)$"
   ]
  },
  {
   "cell_type": "markdown",
   "id": "4d352bcf-a1fe-4191-a4d7-aea7aff0ccd7",
   "metadata": {},
   "source": [
    "---\n",
    "\n",
    "### **Solutions**\n",
    "\n",
    "#### (a) $\\lim_{x \\to -\\infty} f(x)$\n",
    "\n",
    "As $x \\to -\\infty$:\n",
    "- $e^{1-x} \\to \\infty$ (since $-x \\to \\infty$)\n",
    "- $e^{-5x} \\to \\infty$ (since $-5x \\to \\infty$)\n",
    "- $e^{10x} \\to 0$ (since $10x \\to -\\infty$)\n",
    "\n",
    "Thus:\n",
    "- $e^{1-x} \\to \\infty$\n",
    "- $-8e^{-5x} \\to -\\infty$\n",
    "- $-e^{10x} \\to 0$\n",
    "\n",
    "We compare the growth rates:\n",
    "- $e^{1-x}$ and $e^{-5x}$ both grow as $x \\to -\\infty$, but we need to see which grows faster.\n",
    "- Write both in terms of $e^{|x|}$:\n",
    "  - $e^{1-x} = e^{1} \\cdot e^{-x}$ (grows like $e^{-x}$)\n",
    "  - $e^{-5x}$ (grows like $e^{-5x}$)\n",
    "- Since $x \\to -\\infty$, let $u = -x \\to \\infty$. Then:\n",
    "  - $e^{1-x} = e^{1+u}$\n",
    "  - $e^{-5x} = e^{5u}$\n",
    "- So $e^{-5x}$ grows faster than $e^{1-x}$ (since $5 > 1$).\n",
    "\n",
    "Therefore, $-8e^{-5x}$ dominates $e^{1-x}$:\n",
    "$$ \\boxed{\\lim_{x \\to -\\infty} f(x) = \\infty - \\infty + 0 = -\\infty} \\quad \\text{(since } -8e^{-5x} \\text{ dominates)} $$\n",
    "\n",
    "\n",
    "#### (b) $\\lim_{x \\to \\infty} f(x)$\n",
    "\n",
    "As $x \\to \\infty$:\n",
    "- $e^{1-x} \\to 0$ (since $1-x \\to -\\infty$)\n",
    "- $e^{-5x} \\to 0$ (since $-5x \\to -\\infty$)\n",
    "- $e^{10x} \\to \\infty$ (since $10x \\to \\infty$)\n",
    "\n",
    "Thus:\n",
    "- $e^{1-x} \\to 0$\n",
    "- $-8e^{-5x} \\to 0$\n",
    "- $-e^{10x} \\to -\\infty$\n",
    "\n",
    "Therefore:\n",
    "$$ \\boxed{\\lim_{x \\to \\infty} f(x) = 0 - 0 - \\infty = -\\infty} $$\n"
   ]
  }
 ],
 "metadata": {
  "kernelspec": {
   "display_name": "Python 3 (ipykernel)",
   "language": "python",
   "name": "python3"
  },
  "language_info": {
   "codemirror_mode": {
    "name": "ipython",
    "version": 3
   },
   "file_extension": ".py",
   "mimetype": "text/x-python",
   "name": "python",
   "nbconvert_exporter": "python",
   "pygments_lexer": "ipython3",
   "version": "3.12.6"
  }
 },
 "nbformat": 4,
 "nbformat_minor": 5
}
