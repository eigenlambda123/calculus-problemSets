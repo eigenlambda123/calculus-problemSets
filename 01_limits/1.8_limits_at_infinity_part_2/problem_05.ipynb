{
 "cells": [
  {
   "cell_type": "markdown",
   "id": "f88fbf49-815d-43e6-a802-65fc047a36b3",
   "metadata": {},
   "source": [
    "### **Problems**\n",
    "\n",
    "$5. \\text{For } f(x) = \\frac{e^{-3x} - 2e^{8x}}{9e^{8x}-7e^{-3x}} \\text{ evaluate each of the following limits.}$\n",
    "\n",
    "(a) $\\lim_{x \\to -\\infty} f(x)$  \n",
    "(b) $\\lim_{x \\to \\infty} f(x)$"
   ]
  },
  {
   "cell_type": "markdown",
   "id": "8908886f-3b40-443f-8f7d-da150bacf5c7",
   "metadata": {},
   "source": [
    "---\n",
    "\n",
    "### **Solutions**\n",
    "\n",
    "#### (a) $\\lim_{x \\to -\\infty} f(x)$\n",
    "\n",
    "As $x \\to -\\infty$:\n",
    "- $e^{8x} \\to 0$ (since $8x \\to -\\infty$)\n",
    "- $e^{-3x} \\to \\infty$ (since $-3x \\to \\infty$)\n",
    "\n",
    "So the dominant term in both numerator and denominator is $e^{-3x}$.\n",
    "\n",
    "Factor $e^{-3x}$ from numerator and denominator:\n",
    "$$\n",
    "f(x) = \\frac{e^{-3x}(1 - 2e^{11x})}{e^{-3x}(9e^{11x} - 7)} = \\frac{1 - 2e^{11x}}{9e^{11x} - 7}\n",
    "$$\n",
    "\n",
    "As $x \\to -\\infty$:\n",
    "- $e^{11x} \\to 0$ (since $11x \\to -\\infty$)\n",
    "\n",
    "Therefore:\n",
    "$$\n",
    "\\boxed{\\lim_{x \\to -\\infty} f(x) = \\frac{1 - 2(0)}{9(0) - 7} = \\frac{1}{-7} = -\\frac{1}{7}}\n",
    "$$\n",
    "\n",
    "\n",
    "#### (b) $\\lim_{x \\to \\infty} f(x)$\n",
    "\n",
    "As $x \\to \\infty$:\n",
    "- $e^{8x} \\to \\infty$ (since $8x \\to \\infty$)\n",
    "- $e^{-3x} \\to 0$ (since $-3x \\to -\\infty$)\n",
    "\n",
    "So the dominant term in both numerator and denominator is $e^{8x}$.\n",
    "\n",
    "Factor $e^{8x}$ from numerator and denominator:\n",
    "$$\n",
    "f(x) = \\frac{e^{8x}(e^{-11x} - 2)}{e^{8x}(9 - 7e^{-11x})} = \\frac{e^{-11x} - 2}{9 - 7e^{-11x}}\n",
    "$$\n",
    "\n",
    "As $x \\to \\infty$:\n",
    "- $e^{-11x} \\to 0$ (since $-11x \\to -\\infty$)\n",
    "\n",
    "Therefore:\n",
    "$$\n",
    "\\boxed{\\lim_{x \\to \\infty} f(x) = \\frac{0 - 2}{9 - 7(0)} = \\frac{-2}{9} = -\\frac{2}{9}}\n",
    "$$\n"
   ]
  }
 ],
 "metadata": {
  "kernelspec": {
   "display_name": "Python 3 (ipykernel)",
   "language": "python",
   "name": "python3"
  },
  "language_info": {
   "codemirror_mode": {
    "name": "ipython",
    "version": 3
   },
   "file_extension": ".py",
   "mimetype": "text/x-python",
   "name": "python",
   "nbconvert_exporter": "python",
   "pygments_lexer": "ipython3",
   "version": "3.12.6"
  }
 },
 "nbformat": 4,
 "nbformat_minor": 5
}
