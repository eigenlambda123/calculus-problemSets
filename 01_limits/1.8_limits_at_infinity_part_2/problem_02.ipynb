{
 "cells": [
  {
   "cell_type": "markdown",
   "id": "d6876cc7-851f-40e7-81aa-12a24527c4ef",
   "metadata": {},
   "source": [
    "### **Problems**\n",
    "\n",
    "$2. \\text{For } f(x) = \\frac{6x^{2}+x}{5+3x} \\text{ evaluate each of the following limits.}$\n",
    "\n",
    "(a) $\\lim_{x \\to -\\infty} f(x)$  \n",
    "(b) $\\lim_{x \\to \\infty} f(x)$\n"
   ]
  },
  {
   "cell_type": "markdown",
   "id": "ab13db82-5b0b-47d1-88b3-8c30bd879204",
   "metadata": {},
   "source": [
    "\n",
    "---\n",
    "\n",
    "### **Solutions**\n",
    "\n",
    "#### (a) $\\lim_{x \\to -\\infty} f(x)$\n",
    "\n",
    "As $x \\to -\\infty$:\n",
    "- $6x \\to -\\infty$\n",
    "- $\\frac{5}{x} \\to 0$\n",
    "- So the denominator approaches $3$ (since $\\frac{5}{x} + 3 \\to 0 + 3 = 3$)\n",
    "- The numerator $6x + 1 \\to -\\infty$\n",
    "\n",
    "Therefore:\n",
    "$$ \\boxed{\\lim_{x \\to -\\infty} f(x) = \\frac{-\\infty}{3} = 0} $$\n",
    "\n",
    "\n",
    "#### (b) $\\lim_{x \\to \\infty} f(x)$\n",
    "\n",
    "As $x \\to \\infty$:\n",
    "- $6x \\to \\infty$\n",
    "- $\\frac{5}{x} \\to 0$\n",
    "- So the denominator approaches $3$ (since $\\frac{5}{x} + 3 \\to 0 + 3 = 3$)\n",
    "- The numerator $6x + 1 \\to \\infty$\n",
    "\n",
    "Therefore:\n",
    "$$ \\boxed{\\lim_{x \\to \\infty} f(x) = \\frac{\\infty}{3} = \\infty} $$\n"
   ]
  }
 ],
 "metadata": {
  "kernelspec": {
   "display_name": "Python 3 (ipykernel)",
   "language": "python",
   "name": "python3"
  },
  "language_info": {
   "codemirror_mode": {
    "name": "ipython",
    "version": 3
   },
   "file_extension": ".py",
   "mimetype": "text/x-python",
   "name": "python",
   "nbconvert_exporter": "python",
   "pygments_lexer": "ipython3",
   "version": "3.12.6"
  }
 },
 "nbformat": 4,
 "nbformat_minor": 5
}
