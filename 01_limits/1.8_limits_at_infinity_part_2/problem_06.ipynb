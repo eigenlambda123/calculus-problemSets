{
 "cells": [
  {
   "cell_type": "markdown",
   "id": "903b0734-4c6c-47d9-8081-165cf7dc9563",
   "metadata": {},
   "source": [
    "### **Problems**\n",
    "\n",
    "$6. \\text{For } f(x) = \\frac{e^{-7x} - 2e^{3x} - e^{x}}{e^{-x} + 16e^{10x} + 2e^{-4x}} \\text{ evaluate each of the following limits.}$\n",
    "\n",
    "(a) $\\lim_{x \\to -\\infty} f(x)$  \n",
    "(b) $\\lim_{x \\to \\infty} f(x)$"
   ]
  },
  {
   "cell_type": "markdown",
   "id": "1f892b2c-6022-4013-8e38-a00821ea66fc",
   "metadata": {},
   "source": [
    "---\n",
    "\n",
    "### **Solutions**\n",
    "\n",
    "#### (a) $\\lim_{x \\to -\\infty} f(x)$\n",
    "\n",
    "As $x \\to -\\infty$:\n",
    "- Terms with positive exponents ($e^{3x}, e^{x}, e^{10x}$) approach $0$.\n",
    "- Terms with negative exponents ($e^{-7x}, e^{-x}, e^{-4x}$) approach $\\infty$.\n",
    "\n",
    "The dominant term is the one with the **most negative exponent** (since it grows fastest as $x \\to -\\infty$):\n",
    "- Numerator: $e^{-7x}$ (exponent $-7x$)\n",
    "- Denominator: $e^{-4x}$ (exponent $-4x$)\n",
    "\n",
    "Factor $e^{-7x}$ from the numerator and $e^{-4x}$ from the denominator:\n",
    "\n",
    "$$\n",
    "f(x) = \\frac{e^{-7x} \\left(1 - 2e^{10x} - e^{8x}\\right)}{e^{-4x} \\left(e^{3x} + 16e^{14x} + 2\\right)} = e^{-3x} \\cdot \\frac{1 - 2e^{10x} - e^{8x}}{e^{3x} + 16e^{14x} + 2}\n",
    "$$\n",
    "\n",
    "As $x \\to -\\infty$:\n",
    "- $e^{-3x} \\to \\infty$\n",
    "- $e^{10x}, e^{8x}, e^{3x}, e^{14x} \\to 0$\n",
    "- Numerator approaches $1$\n",
    "- Denominator approaches $2$\n",
    "\n",
    "Thus:\n",
    "$$\n",
    "\\boxed{\\lim_{x \\to -\\infty} f(x) = \\infty \\cdot \\frac{1}{2} = \\infty}\n",
    "$$\n",
    "\n",
    "\n",
    "#### (b) $\\lim_{x \\to \\infty} f(x)$\n",
    "\n",
    "As $x \\to \\infty$:\n",
    "- Terms with negative exponents ($e^{-7x}, e^{-x}, e^{-4x}$) approach $0$.\n",
    "- Terms with positive exponents ($e^{3x}, e^{x}, e^{10x}$) approach $\\infty$.\n",
    "\n",
    "The dominant term is the one with the **largest positive exponent**:\n",
    "- Numerator: $-2e^{3x}$ (exponent $3x$)\n",
    "- Denominator: $16e^{10x}$ (exponent $10x$)\n",
    "\n",
    "Factor $e^{3x}$ from the numerator and $e^{10x}$ from the denominator:\n",
    "\n",
    "$$\n",
    "f(x) = \\frac{e^{3x} \\left(e^{-10x} - 2 - e^{-2x}\\right)}{e^{10x} \\left(e^{-11x} + 16 + 2e^{-14x}\\right)} = e^{-7x} \\cdot \\frac{e^{-10x} - 2 - e^{-2x}}{e^{-11x} + 16 + 2e^{-14x}}\n",
    "$$\n",
    "\n",
    "As $x \\to \\infty$:\n",
    "- $e^{-7x} \\to 0$\n",
    "- All other exponential terms ($e^{-10x}, e^{-2x}, e^{-11x}, e^{-14x}$) approach $0$\n",
    "- Numerator approaches $-2$\n",
    "- Denominator approaches $16$\n",
    "\n",
    "Thus:\n",
    "$$\n",
    "\\boxed{\\lim_{x \\to \\infty} f(x) = 0 \\cdot \\frac{-2}{16} = 0}\n",
    "$$\n"
   ]
  }
 ],
 "metadata": {
  "kernelspec": {
   "display_name": "Python 3 (ipykernel)",
   "language": "python",
   "name": "python3"
  },
  "language_info": {
   "codemirror_mode": {
    "name": "ipython",
    "version": 3
   },
   "file_extension": ".py",
   "mimetype": "text/x-python",
   "name": "python",
   "nbconvert_exporter": "python",
   "pygments_lexer": "ipython3",
   "version": "3.12.6"
  }
 },
 "nbformat": 4,
 "nbformat_minor": 5
}
