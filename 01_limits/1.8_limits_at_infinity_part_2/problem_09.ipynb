{
 "cells": [
  {
   "cell_type": "markdown",
   "id": "56171d09-e2a1-4e83-948c-ed571576c879",
   "metadata": {},
   "source": [
    "### **Problem**\n",
    "\n",
    "$$9. \\text{Evaluate } \\lim_{x \\to -\\infty } { ln(\\frac{11+8x}{x^{3}+7x})}$$\n"
   ]
  },
  {
   "cell_type": "markdown",
   "id": "31838f29-cf3d-49d6-bc05-06c62190d111",
   "metadata": {},
   "source": [
    "---\n",
    "\n",
    "### **Solution**\n",
    "\n",
    "- As $x \\to -\\infty$:\n",
    "  - Numerator: $11 + 8x \\to -\\infty$ (since $8x$ dominates)\n",
    "  - Denominator: $x^3 + 7x \\to -\\infty$ (since $x^3$ dominates)\n",
    "  - The ratio of two negative quantities is positive: $\\frac{-\\infty}{-\\infty} = +\\infty$\n",
    "  - However, we need to compare the growth rates:\n",
    "    - Numerator grows like $8x$ (linear)\n",
    "    - Denominator grows like $x^3$ (cubic)\n",
    "    - Since cubic grows faster than linear, the fraction tends to $0$ (specifically $0^+$)\n",
    "\n",
    "Verify by dividing numerator and denominator by $x^3$:\n",
    "$$\n",
    "\\frac{11 + 8x}{x^3 + 7x} = \\frac{\\frac{11}{x^3} + \\frac{8}{x^2}}{1 + \\frac{7}{x^2}}\n",
    "$$\n",
    "As $x \\to -\\infty$:\n",
    "- $\\frac{11}{x^3} \\to 0$\n",
    "- $\\frac{8}{x^2} \\to 0$\n",
    "- $\\frac{7}{x^2} \\to 0$\n",
    "So:\n",
    "$$\n",
    "\\frac{11 + 8x}{x^3 + 7x} \\to \\frac{0 + 0}{1 + 0} = 0\n",
    "$$\n",
    "Since the denominator $x^3 + 7x$ is negative for large negative $x$ (e.g., $x = -100$, $x^3 = -1,000,000$), and the numerator is also negative, the fraction approaches $0$ from the positive side ($0^+$).\n",
    "\n",
    "Therefore:\n",
    "$$\n",
    "\\boxed{\\lim_{x \\to -\\infty} \\ln\\left(\\frac{11 + 8x}{x^3 + 7x}\\right) = \\ln(0^+) = -\\infty}\n",
    "$$\n"
   ]
  }
 ],
 "metadata": {
  "kernelspec": {
   "display_name": "",
   "name": ""
  },
  "language_info": {
   "name": ""
  }
 },
 "nbformat": 4,
 "nbformat_minor": 5
}
