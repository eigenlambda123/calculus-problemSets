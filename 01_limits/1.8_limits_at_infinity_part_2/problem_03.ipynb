{
 "cells": [
  {
   "cell_type": "markdown",
   "id": "6906c798-6451-4ee2-a331-2ef0ca63f951",
   "metadata": {},
   "source": [
    "### **Problems**\n",
    "\n",
    "$3. \\text{For } f(x) = 2e^{6{x}} - e^{-7x} - 10e^{4x} \\text{ evaluate each of the following limits.}$\n",
    "\n",
    "(a) $\\lim_{x \\to -\\infty} f(x)$  \n",
    "(b) $\\lim_{x \\to \\infty} f(x)$"
   ]
  },
  {
   "cell_type": "markdown",
   "id": "02a6285e-3c1d-4602-8c31-cbd102dfca9c",
   "metadata": {},
   "source": [
    "---\n",
    "\n",
    "### **Solutions**\n",
    "\n",
    "#### (a) $\\lim_{x \\to -\\infty} f(x)$\n",
    "\n",
    "As $x \\to -\\infty$:\n",
    "- $e^{6x} \\to 0$ (since $6x \\to -\\infty$)\n",
    "- $e^{4x} \\to 0$ (since $4x \\to -\\infty$)\n",
    "- $e^{-7x} \\to \\infty$ (since $-7x \\to \\infty$)\n",
    "\n",
    "Thus:\n",
    "- $2e^{6x} \\to 0$\n",
    "- $-10e^{4x} \\to 0$\n",
    "- $-e^{-7x} \\to -\\infty$\n",
    "\n",
    "The term $-e^{-7x}$ dominates:\n",
    "$$ \\boxed{\\lim_{x \\to -\\infty} f(x) = 0 - \\infty - 0 = 0} $$\n",
    "\n",
    "\n",
    "#### (b) $\\lim_{x \\to \\infty} f(x)$\n",
    "\n",
    "As $x \\to \\infty$:\n",
    "- $e^{6x} \\to \\infty$ (since $6x \\to \\infty$)\n",
    "- $e^{4x} \\to \\infty$ (since $4x \\to \\infty$)\n",
    "- $e^{-7x} \\to 0$ (since $-7x \\to -\\infty$)\n",
    "\n",
    "Thus:\n",
    "- $2e^{6x} \\to \\infty$\n",
    "- $-10e^{4x} \\to -\\infty$\n",
    "- $-e^{-7x} \\to 0$\n",
    "\n",
    "We compare the growth rates:\n",
    "- $e^{6x}$ grows faster than $e^{4x}$ (since $6 > 4$)\n",
    "- So $2e^{6x}$ dominates $-10e^{4x}$\n",
    "\n",
    "Therefore:\n",
    "$$ \\boxed{\\lim_{x \\to \\infty} f(x) = \\infty - \\infty + 0 = \\infty \\quad \\text{(since } 2e^{6x} \\text{ dominates)}} $$\n"
   ]
  }
 ],
 "metadata": {
  "kernelspec": {
   "display_name": "Python 3 (ipykernel)",
   "language": "python",
   "name": "python3"
  },
  "language_info": {
   "codemirror_mode": {
    "name": "ipython",
    "version": 3
   },
   "file_extension": ".py",
   "mimetype": "text/x-python",
   "name": "python",
   "nbconvert_exporter": "python",
   "pygments_lexer": "ipython3",
   "version": "3.12.6"
  }
 },
 "nbformat": 4,
 "nbformat_minor": 5
}
