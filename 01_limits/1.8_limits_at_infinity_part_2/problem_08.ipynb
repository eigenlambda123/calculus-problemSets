{
 "cells": [
  {
   "cell_type": "markdown",
   "id": "c6a9f973-64bd-4fff-8002-566ce0d04ed8",
   "metadata": {},
   "source": [
    "### **Problem**\n",
    "\n",
    "$$8. \\text{Evaluate } \\lim_{x \\to -\\infty } { ln(\\frac{3z^{4}-8}{z+z^{2}})}$$\n"
   ]
  },
  {
   "cell_type": "markdown",
   "id": "7df17571-1206-4475-9e55-141e012a4656",
   "metadata": {},
   "source": [
    "---\n",
    "\n",
    "### **Solution**\n",
    "\n",
    "Given the limit:\n",
    "$$ \\lim_{z \\to -\\infty} \\ln\\left(\\frac{3z^4 - 8}{z + z^2}\\right) $$\n",
    "\n",
    "We analyze the behavior of the argument inside the logarithm as $z \\to -\\infty$:\n",
    "\n",
    "- As $z \\to -\\infty$:\n",
    "  - The numerator $3z^4 - 8 \\to \\infty$ (since $z^4 \\to \\infty$)\n",
    "  - The denominator $z + z^2 \\to \\infty$ (since $z^2 \\to \\infty$ dominates $z$)\n",
    "  - However, $z^4$ grows faster than $z^2$, so the fraction $\\to \\infty$\n",
    "\n",
    "Thus:\n",
    "$$ \\frac{3z^4 - 8}{z + z^2} \\to \\infty $$\n",
    "\n",
    "Therefore:\n",
    "$$ \\boxed{\\lim_{z \\to -\\infty} \\ln\\left(\\frac{3z^4 - 8}{z + z^2}\\right) = \\ln(\\infty) = \\infty} $$\n"
   ]
  }
 ],
 "metadata": {
  "kernelspec": {
   "display_name": "Python 3 (ipykernel)",
   "language": "python",
   "name": "python3"
  },
  "language_info": {
   "codemirror_mode": {
    "name": "ipython",
    "version": 3
   },
   "file_extension": ".py",
   "mimetype": "text/x-python",
   "name": "python",
   "nbconvert_exporter": "python",
   "pygments_lexer": "ipython3",
   "version": "3.12.6"
  }
 },
 "nbformat": 4,
 "nbformat_minor": 5
}
