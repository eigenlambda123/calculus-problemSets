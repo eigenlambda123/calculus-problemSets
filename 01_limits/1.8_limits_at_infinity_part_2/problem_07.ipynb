{
 "cells": [
  {
   "cell_type": "markdown",
   "id": "5298586b-d371-45a7-bb86-f9547eacde2e",
   "metadata": {},
   "source": [
    "### **Problem**\n",
    "\n",
    "$$7. \\text{Evaluate } \\lim_{x \\to -\\infty } { ln(4-9t-t^{3})}$$\n"
   ]
  },
  {
   "cell_type": "markdown",
   "id": "97467b0e-eb57-4a09-89b0-920db171a428",
   "metadata": {},
   "source": [
    "---\n",
    "\n",
    "### **Solution**\n",
    "\n",
    "Given the limit:\n",
    "$$ \\lim_{t \\to -\\infty} \\ln(4 - 9t - t^3) $$\n",
    "\n",
    "We analyze the behavior of the argument inside the logarithm as $t \\to -\\infty$:\n",
    "\n",
    "- As $t \\to -\\infty$:\n",
    "  - $-t^3 \\to \\infty$ (since $t^3 \\to -\\infty$)\n",
    "  - $-9t \\to \\infty$ (since $t \\to -\\infty$)\n",
    "  - The constant $4$ is negligible compared to these terms.\n",
    "\n",
    "Thus:\n",
    "$$ 4 - 9t - t^3 \\to \\infty $$\n",
    "\n",
    "Therefore:\n",
    "$$ \\boxed{\\lim_{t \\to -\\infty} \\ln(4 - 9t - t^3) = \\ln(\\infty) = \\infty} $$\n"
   ]
  }
 ],
 "metadata": {
  "kernelspec": {
   "display_name": "Python 3 (ipykernel)",
   "language": "python",
   "name": "python3"
  },
  "language_info": {
   "codemirror_mode": {
    "name": "ipython",
    "version": 3
   },
   "file_extension": ".py",
   "mimetype": "text/x-python",
   "name": "python",
   "nbconvert_exporter": "python",
   "pygments_lexer": "ipython3",
   "version": "3.12.6"
  }
 },
 "nbformat": 4,
 "nbformat_minor": 5
}
