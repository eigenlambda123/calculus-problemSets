{
 "cells": [
  {
   "cell_type": "markdown",
   "id": "b0f386c4-91e5-4d98-b2aa-2e70e13d3041",
   "metadata": {},
   "source": [
    "### **Problems**\n",
    "\n",
    "\n",
    "$1. \\text{For } f(x) = e^{8+2x-x^{3}} \\text{ evaluate each of the following limits.}$\n",
    "\n",
    "(a) $\\lim_{x \\to -\\infty} f(x)$  \n",
    "(b) $\\lim_{x \\to \\infty} f(x)$"
   ]
  },
  {
   "cell_type": "markdown",
   "id": "f4c5541c-09da-4a0c-8db2-41ab43c789d5",
   "metadata": {},
   "source": [
    "---\n",
    "\n",
    "### **Solution**\n",
    "\n",
    "Given the function:\n",
    "$$ f(x) = e^{8 + 2x - x^3} $$\n",
    "\n",
    "To evaluate the limits, we analyze the behavior of the exponent:\n",
    "$$ g(x) = 8 + 2x - x^3 $$\n",
    "\n",
    "\n",
    "#### (a) $\\lim_{x \\to -\\infty} f(x)$\n",
    "\n",
    "As $x \\to -\\infty$:\n",
    "- $x^3 \\to -\\infty$\n",
    "- $-x^3 \\to \\infty$\n",
    "- $2x \\to -\\infty$\n",
    "\n",
    "The cubic term $-x^3$ dominates the linear term $2x$, so:\n",
    "$$ \\lim_{x \\to -\\infty} g(x) = \\lim_{x \\to -\\infty} (8 + 2x - x^3) = \\infty $$\n",
    "Therefore:\n",
    "$$ \\boxed{\\lim_{x \\to -\\infty} f(x) = e^{\\infty} = \\infty} $$\n",
    "\n",
    "\n",
    "#### (b) $\\lim_{x \\to \\infty} f(x)$\n",
    "\n",
    "As $x \\to \\infty$:\n",
    "- $x^3 \\to \\infty$\n",
    "- $-x^3 \\to -\\infty$\n",
    "- $2x \\to \\infty$\n",
    "\n",
    "The cubic term $-x^3$ dominates the linear term $2x$, so:\n",
    "$$ \\lim_{x \\to \\infty} g(x) = \\lim_{x \\to \\infty} (8 + 2x - x^3) = -\\infty $$\n",
    "Therefore:\n",
    "$$ \\boxed{\\lim_{x \\to \\infty} f(x) = e^{-\\infty} = 0} $$\n"
   ]
  }
 ],
 "metadata": {
  "kernelspec": {
   "display_name": "Python 3 (ipykernel)",
   "language": "python",
   "name": "python3"
  },
  "language_info": {
   "codemirror_mode": {
    "name": "ipython",
    "version": 3
   },
   "file_extension": ".py",
   "mimetype": "text/x-python",
   "name": "python",
   "nbconvert_exporter": "python",
   "pygments_lexer": "ipython3",
   "version": "3.12.6"
  }
 },
 "nbformat": 4,
 "nbformat_minor": 5
}
