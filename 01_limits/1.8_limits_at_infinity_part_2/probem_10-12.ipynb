{
 "cells": [
  {
   "cell_type": "markdown",
   "id": "324d94c5-66bb-4c5e-b6f0-19eb22c191c1",
   "metadata": {},
   "source": [
    "### **Problems**\n",
    "\n",
    "$$10. \\text{Evaluate } \\lim_{x \\to -\\infty } { tan^{-1}(7-x+3x^{5})}$$\n",
    "\n",
    "\n",
    "$$11. \\text{Evaluate } \\lim_{x \\to \\infty } { tan^{-1}(\\frac{4+7t}{2-t})}$$\n",
    "\n",
    "\n",
    "$$12. \\text{Evaluate } \\lim_{x \\to \\infty } { tan^{-1}(\\frac{3w^{2}-9w^{4}}{4w-w^{3}})}$$"
   ]
  },
  {
   "cell_type": "markdown",
   "id": "d8cb363a-06d6-446f-9d94-8b506023f343",
   "metadata": {},
   "source": [
    "---\n",
    "\n",
    "### **Solutions** \n",
    "\n",
    "#### **10.** Given the limit:\n",
    "$$ \\lim_{x \\to -\\infty} \\tan^{-1}(7 - x + 3x^5) $$\n",
    "\n",
    "We analyze the behavior of the argument inside the arctangent as $x \\to -\\infty$:\n",
    "\n",
    "- As $x \\to -\\infty$:\n",
    "  - The term $3x^5$ dominates (since $x^5 \\to -\\infty$ for $x \\to -\\infty$)\n",
    "  - So $7 - x + 3x^5 \\to -\\infty$\n",
    "\n",
    "Therefore:\n",
    "$$ \\boxed{\\lim_{x \\to -\\infty} \\tan^{-1}(7 - x + 3x^5) = \\tan^{-1}(-\\infty) = -\\frac{\\pi}{2}} $$\n",
    "\n",
    "\n",
    "\n",
    "\n",
    "#### **11.** Given the limit:\n",
    "$$ \\lim_{t \\to \\infty} \\tan^{-1}\\left(\\frac{4 + 7t}{2 - t}\\right) $$\n",
    "\n",
    "We analyze the behavior of the rational expression inside the arctangent as $t \\to \\infty$:\n",
    "\n",
    "Divide numerator and denominator by $t$:\n",
    "$$\n",
    "\\frac{4 + 7t}{2 - t} = \\frac{\\frac{4}{t} + 7}{\\frac{2}{t} - 1}\n",
    "$$\n",
    "\n",
    "As $t \\to \\infty$:\n",
    "- $\\frac{4}{t} \\to 0$\n",
    "- $\\frac{2}{t} \\to 0$\n",
    "- So the expression $\\to \\frac{0 + 7}{0 - 1} = -7$\n",
    "\n",
    "Therefore:\n",
    "$$ \\boxed{\\lim_{t \\to \\infty} \\tan^{-1}\\left(\\frac{4 + 7t}{2 - t}\\right) = \\tan^{-1}(-7)} $$\n",
    "\n",
    "Since $\\tan^{-1}(-7)$ is a finite number (approximately $-1.4289$ radians):\n",
    "\n",
    "\n",
    "#### **12.** Given the limit:\n",
    "$$ \\lim_{w \\to \\infty} \\tan^{-1}\\left(\\frac{3w^2 - 9w^4}{4w - w^3}\\right) $$\n",
    "\n",
    "We analyze the behavior of the rational expression inside the arctangent as $w \\to \\infty$:\n",
    "\n",
    "Divide numerator and denominator by $w^3$ (the highest power in the denominator):\n",
    "$$\n",
    "\\frac{3w^2 - 9w^4}{4w - w^3} = \\frac{\\frac{3w^2}{w^3} - \\frac{9w^4}{w^3}}{\\frac{4w}{w^3} - \\frac{w^3}{w^3}} = \\frac{\\frac{3}{w} - 9w}{\\frac{4}{w^2} - 1}\n",
    "$$\n",
    "\n",
    "As $w \\to \\infty$:\n",
    "- $\\frac{3}{w} \\to 0$\n",
    "- $9w \\to \\infty$\n",
    "- $\\frac{4}{w^2} \\to 0$\n",
    "- So the numerator $\\to -\\infty$, denominator $\\to -1$\n",
    "\n",
    "Thus:\n",
    "$$ \\frac{3w^2 - 9w^4}{4w - w^3} \\to \\frac{-\\infty}{-1} = \\infty $$\n",
    "\n",
    "Therefore:\n",
    "$$ \\boxed{\\lim_{w \\to \\infty} \\tan^{-1}\\left(\\frac{3w^2 - 9w^4}{4w - w^3}\\right) = \\tan^{-1}(\\infty) = \\frac{\\pi}{2}} $$\n"
   ]
  }
 ],
 "metadata": {
  "kernelspec": {
   "display_name": "Python 3 (ipykernel)",
   "language": "python",
   "name": "python3"
  },
  "language_info": {
   "codemirror_mode": {
    "name": "ipython",
    "version": 3
   },
   "file_extension": ".py",
   "mimetype": "text/x-python",
   "name": "python",
   "nbconvert_exporter": "python",
   "pygments_lexer": "ipython3",
   "version": "3.12.6"
  }
 },
 "nbformat": 4,
 "nbformat_minor": 5
}
