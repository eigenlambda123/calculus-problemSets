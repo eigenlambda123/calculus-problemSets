{
 "cells": [
  {
   "cell_type": "markdown",
   "id": "3693ab68-d93d-453f-b713-3b267fdc5ed3",
   "metadata": {},
   "source": [
    "### **Problem** \n",
    "\n",
    "**Use the Squeeze Theorem to determine the value of:**  \n",
    "$$\\lim_{x \\to 0} x^{4}\\sin\\!\\left(\\frac{\\pi}{x}\\right)$$  \n"
   ]
  },
  {
   "cell_type": "markdown",
   "id": "985c59fd-f7ff-43da-9685-be7a8b8ea306",
   "metadata": {},
   "source": [
    "---\n",
    "\n",
    "### **Solution**\n",
    "\n",
    "We want to evaluate  \n",
    "$$\n",
    "\\lim_{x \\to 0} x^{4}\\sin\\!\\left(\\frac{\\pi}{x}\\right).\n",
    "$$  \n",
    "\n",
    "Recall the sine bound:  \n",
    "$$\n",
    "-1 \\le \\sin\\!\\left(\\frac{\\pi}{x}\\right) \\le 1 \\qquad\\text{for all }x\\neq 0.\n",
    "$$  \n",
    "\n",
    "Multiply the inequality by $x^{4}$ (which is nonnegative for all real $x$) to get  \n",
    "$$\n",
    "-x^{4} \\le x^{4}\\sin\\!\\left(\\frac{\\pi}{x}\\right) \\le x^{4}\n",
    "$$  \n",
    "\n",
    "Now take limits as $x \\to 0$. Because  \n",
    "$$\n",
    "\\lim_{x\\to 0} -x^{4} = 0 \n",
    "\\quad\\text{and}\\quad \n",
    "\\lim_{x\\to 0} x^{4} = 0,\n",
    "$$  \n",
    "the Squeeze Theorem implies  \n",
    "$$\n",
    "\\lim_{x \\to 0} x^{4}\\sin\\!\\left(\\frac{\\pi}{x}\\right) = 0\n",
    "$$\n",
    "$$\n",
    "\\boxed{0}\n",
    "$$\n"
   ]
  }
 ],
 "metadata": {
  "kernelspec": {
   "display_name": "Python 3 (ipykernel)",
   "language": "python",
   "name": "python3"
  },
  "language_info": {
   "codemirror_mode": {
    "name": "ipython",
    "version": 3
   },
   "file_extension": ".py",
   "mimetype": "text/x-python",
   "name": "python",
   "nbconvert_exporter": "python",
   "pygments_lexer": "ipython3",
   "version": "3.12.6"
  }
 },
 "nbformat": 4,
 "nbformat_minor": 5
}
