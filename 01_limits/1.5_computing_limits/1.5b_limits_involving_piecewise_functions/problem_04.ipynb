{
 "cells": [
  {
   "cell_type": "markdown",
   "id": "1346cc45-8916-45a6-81b4-7b0dbf095a04",
   "metadata": {},
   "source": [
    "### **Problem** \n",
    "\n",
    "**Evaluate the Limit, If it exist:** \n",
    "$$\\lim_{x \\to\\ -1} \\frac{t+1}{|t+1|}$$"
   ]
  },
  {
   "cell_type": "markdown",
   "id": "1f40f79a-7a67-4990-9887-873157dccb00",
   "metadata": {},
   "source": [
    "---\n",
    "\n",
    "### **Solution**\n",
    "\n",
    "We want to evaluate  \n",
    "$$\n",
    "\\lim_{t \\to -1} \\frac{t+1}{|t+1|}.\n",
    "$$  \n",
    "\n",
    "Since the absolute value function is **piecewise defined**,  \n",
    "$$\n",
    "|t+1| =\n",
    "\\begin{cases}\n",
    "t+1, & t \\geq -1 \\\\\n",
    "-(t+1), & t < -1\n",
    "\\end{cases}\n",
    "$$  \n",
    "\n",
    "we check both one-sided limits.  \n",
    "\n",
    "**Right-hand limit (as $t \\to -1^+$)**:  \n",
    "$$\n",
    "\\lim_{t \\to -1^+} \\frac{t+1}{|t+1|}\n",
    "= \\lim_{t \\to -1^+} \\frac{t+1}{t+1}\n",
    "= 1\n",
    "$$  \n",
    "\n",
    "**Left-hand limit (as $t \\to -1^-$)**:  \n",
    "$$\n",
    "\\lim_{t \\to -1^-} \\frac{t+1}{|t+1|}\n",
    "= \\lim_{t \\to -1^-} \\frac{t+1}{-(t+1)}\n",
    "= -1\n",
    "$$  \n",
    "\n",
    "Since the left-hand and right-hand limits are **not equal**,  \n",
    "$$\n",
    "\\boxed{\\text{The limit does not exist.}}\n",
    "$$  "
   ]
  }
 ],
 "metadata": {
  "kernelspec": {
   "display_name": "Python 3 (ipykernel)",
   "language": "python",
   "name": "python3"
  },
  "language_info": {
   "codemirror_mode": {
    "name": "ipython",
    "version": 3
   },
   "file_extension": ".py",
   "mimetype": "text/x-python",
   "name": "python",
   "nbconvert_exporter": "python",
   "pygments_lexer": "ipython3",
   "version": "3.12.6"
  }
 },
 "nbformat": 4,
 "nbformat_minor": 5
}
