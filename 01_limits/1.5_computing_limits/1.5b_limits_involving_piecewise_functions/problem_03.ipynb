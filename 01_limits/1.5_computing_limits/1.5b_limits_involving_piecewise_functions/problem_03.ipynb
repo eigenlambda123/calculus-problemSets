{
 "cells": [
  {
   "cell_type": "markdown",
   "id": "101c73f9-33af-4c36-b3a3-9d8c0014bdad",
   "metadata": {},
   "source": [
    "### **Problem** \n",
    "\n",
    "**Evaluate the Limit, If it exist:** \n",
    "\t$$\\lim_{x \\to\\ 5} (10+|x-5|)$$"
   ]
  },
  {
   "cell_type": "markdown",
   "id": "731f76d7-d333-4cff-a926-0383a4b76fdf",
   "metadata": {},
   "source": [
    "\n",
    "---\n",
    "\n",
    "### **Solution**\n",
    "\n",
    "We want to evaluate  \n",
    "$$\n",
    "\\lim_{x \\to 5} \\left( 10 + |x - 5| \\right)\n",
    "$$  \n",
    "\n",
    "Since the absolute value function is **piecewise defined**,  \n",
    "$$\n",
    "|x - 5| =\n",
    "\\begin{cases}\n",
    "x - 5, & x \\geq 5 \\\\\n",
    "-(x - 5), & x < 5\n",
    "\\end{cases}\n",
    "$$  \n",
    "\n",
    "we check both one-sided limits.  \n",
    "\n",
    "\n",
    "**Right-hand limit (as \\(x \\to 5^+\\))**:  \n",
    "$$\n",
    "\\lim_{x \\to 5^+} \\left( 10 + |x - 5| \\right)\n",
    "= \\lim_{x \\to 5^+} \\left( 10 + (x - 5) \\right)\n",
    "= 10 + (5 - 5)\n",
    "= 10\n",
    "$$  \n",
    "\n",
    "**Left-hand limit (as \\(x \\to 5^-\\))**:  \n",
    "$$\n",
    "\\lim_{x \\to 5^-} \\left( 10 + |x - 5| \\right)\n",
    "= \\lim_{x \\to 5^-} \\left( 10 - (x - 5) \\right)\n",
    "= 10 - (5 - 5)\n",
    "= 10\n",
    "$$  \n",
    "\n",
    "Since the left-hand and right-hand limits are equal,  \n",
    "$$\n",
    "\\boxed{\\lim_{x \\to 5} \\left( 10 + |x - 5| \\right) = 10}\n",
    "$$  \n"
   ]
  }
 ],
 "metadata": {
  "kernelspec": {
   "display_name": "Python 3 (ipykernel)",
   "language": "python",
   "name": "python3"
  },
  "language_info": {
   "codemirror_mode": {
    "name": "ipython",
    "version": 3
   },
   "file_extension": ".py",
   "mimetype": "text/x-python",
   "name": "python",
   "nbconvert_exporter": "python",
   "pygments_lexer": "ipython3",
   "version": "3.12.6"
  }
 },
 "nbformat": 4,
 "nbformat_minor": 5
}
