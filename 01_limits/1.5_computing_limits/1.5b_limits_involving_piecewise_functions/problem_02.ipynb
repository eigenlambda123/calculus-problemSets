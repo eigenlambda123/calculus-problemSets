{
 "cells": [
  {
   "cell_type": "markdown",
   "id": "9f6c710e-fb67-4aae-bb89-e2a40b18288d",
   "metadata": {},
   "source": [
    "### **Problem**\n",
    "\n",
    "Given  \n",
    "\n",
    "$$\n",
    "h(z) =\n",
    "\\begin{cases}\n",
    "6z, & z \\leq -4 \\\\\n",
    "1 - 9z, & z > -4\n",
    "\\end{cases}\n",
    "$$  \n",
    "\n",
    "Evaluate the following limits, if they exist:  \n",
    "\n",
    "**(a)** $\\lim_{z \\to 7} h(z)$  \n",
    "**(b)** $\\lim_{z \\to -4} h(z)$  \n"
   ]
  },
  {
   "cell_type": "markdown",
   "id": "01ea7df2-7676-4a61-a6e3-57c4a57f64b1",
   "metadata": {},
   "source": [
    "---\n",
    "\n",
    "### **Solution**\n",
    "\n",
    "**(a)** For $z \\to 7$, since $7 > -4$, we use the branch  \n",
    "\n",
    "$$\n",
    "h(z) = 1 - 9z.\n",
    "$$  \n",
    "\n",
    "Substitute $z = 7$:  \n",
    "\n",
    "$$\n",
    "\\boxed{\\lim_{z \\to 7} h(z) = 1 - 9(7) = 1 - 63 = -62}\n",
    "$$  \n",
    "\n",
    "**(b)** For $z \\to -4$, we must check the left-hand and right-hand limits.  \n",
    "\n",
    "- Left-hand limit ($z \\to -4^{-}$, use $6z$):  \n",
    "\n",
    "$$\n",
    "\\lim_{z \\to -4^{-}} h(z) = 6(-4) = -24.\n",
    "$$  \n",
    "\n",
    "- Right-hand limit ($z \\to -4^{+}$, use $1 - 9z$):  \n",
    "\n",
    "$$\n",
    "\\lim_{z \\to -4^{+}} h(z) = 1 - 9(-4) = 1 + 36 = 37.\n",
    "$$  \n",
    "\n",
    "Since the left-hand and right-hand limits are not equal,  \n",
    "\n",
    "$$\n",
    "\\boxed{\\lim_{z \\to -4} h(z) \\;\\; \\text{does not exist}}\n",
    "$$  "
   ]
  }
 ],
 "metadata": {
  "kernelspec": {
   "display_name": "Python 3 (ipykernel)",
   "language": "python",
   "name": "python3"
  },
  "language_info": {
   "codemirror_mode": {
    "name": "ipython",
    "version": 3
   },
   "file_extension": ".py",
   "mimetype": "text/x-python",
   "name": "python",
   "nbconvert_exporter": "python",
   "pygments_lexer": "ipython3",
   "version": "3.12.6"
  }
 },
 "nbformat": 4,
 "nbformat_minor": 5
}
