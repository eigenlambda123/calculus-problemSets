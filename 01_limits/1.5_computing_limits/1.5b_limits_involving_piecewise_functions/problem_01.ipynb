{
 "cells": [
  {
   "cell_type": "markdown",
   "id": "37fb7771-1816-4bd9-bedc-090af7e53c36",
   "metadata": {},
   "source": [
    "### **Problem**\n",
    "\n",
    "Given the function  \n",
    "\n",
    "$$\n",
    "f(x) =\n",
    "\\begin{cases}\n",
    "7 - 4x, & x < 1 \\\\\n",
    "x^{2} + 2, & x \\geq 1\n",
    "\\end{cases}\n",
    "$$  \n",
    "\n",
    "Evaluate the following limits, if they exist:\n",
    "\n",
    "**(a)** $\\lim_{x \\to -6} f(x)$  \n",
    "**(b)** $\\lim_{x \\to 1} f(x)$  \n"
   ]
  },
  {
   "cell_type": "markdown",
   "id": "cc17cb54-2634-475b-9749-6c8396b431d0",
   "metadata": {},
   "source": [
    "---\n",
    "\n",
    "### **Solution**\n",
    "\n",
    "**(a)** For $x \\to -6$, we note that $-6 < 1$, so we use the branch  \n",
    "\n",
    "$$\n",
    "f(x) = 7 - 4x.\n",
    "$$  \n",
    "\n",
    "Substitute $x = -6$:  \n",
    "\n",
    "$$\n",
    "\\boxed{\\lim_{x \\to -6} f(x) = 7 - 4(-6) = 7 + 24 = 31}\n",
    "$$  \n",
    "\n",
    "\n",
    "**(b)** For $x \\to 1$, we need to check the **left-hand limit** and the **right-hand limit**.  \n",
    "\n",
    "- Left-hand limit ($x \\to 1^{-}$, use $7 - 4x$):  \n",
    "\n",
    "$$\n",
    "\\lim_{x \\to 1^{-}} f(x) = 7 - 4(1) = 3.\n",
    "$$  \n",
    "\n",
    "- Right-hand limit ($x \\to 1^{+}$, use $x^{2} + 2$):  \n",
    "\n",
    "$$\n",
    "\\lim_{x \\to 1^{+}} f(x) = (1)^{2} + 2 = 3.\n",
    "$$  \n",
    "\n",
    "Since both one-sided limits agree, the two-sided limit exists:  \n",
    "\n",
    "$$\n",
    "\\boxed{\\lim_{x \\to 1} f(x) = 3}\n",
    "$$\n"
   ]
  }
 ],
 "metadata": {
  "kernelspec": {
   "display_name": "Python 3 (ipykernel)",
   "language": "python",
   "name": "python3"
  },
  "language_info": {
   "codemirror_mode": {
    "name": "ipython",
    "version": 3
   },
   "file_extension": ".py",
   "mimetype": "text/x-python",
   "name": "python",
   "nbconvert_exporter": "python",
   "pygments_lexer": "ipython3",
   "version": "3.12.6"
  }
 },
 "nbformat": 4,
 "nbformat_minor": 5
}
