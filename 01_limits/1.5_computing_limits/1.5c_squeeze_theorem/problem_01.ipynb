{
 "cells": [
  {
   "cell_type": "markdown",
   "id": "4beba5bc-0e92-449c-949c-f26388bca694",
   "metadata": {},
   "source": [
    "### **Problem** \n",
    "\n",
    "**Use the Squeeze Theorem to determine the value of:**  \n",
    "$$\\lim_{x \\to 0} \\frac{\\sin(x)}{x^{2}}$$  "
   ]
  },
  {
   "cell_type": "markdown",
   "id": "1d2e081b-7c05-4cda-ab8c-8bcc5502b272",
   "metadata": {},
   "source": [
    "---\n",
    "\n",
    "### **Solution**\n",
    "\n",
    "We want to evaluate  \n",
    "$$\n",
    "\\lim_{x \\to 0} \\frac{\\sin(x)}{x^{2}}.\n",
    "$$  \n",
    "\n",
    "Recall the sine bound:  \n",
    "$$\n",
    "-1 \\le \\sin(x) \\le 1 \\qquad\\text{for all }x.\n",
    "$$  \n",
    "\n",
    "Divide the inequality by \\(x^{2} > 0\\) (for \\(x \\neq 0\\)) to get  \n",
    "$$\n",
    "-\\frac{1}{x^{2}} \\le \\frac{\\sin(x)}{x^{2}} \\le \\frac{1}{x^{2}}.\n",
    "$$  \n",
    "\n",
    "Now take limits as \\(x \\to 0\\). Because  \n",
    "$$\n",
    "\\lim_{x\\to 0} -\\frac{1}{x^{2}} = -\\infty\n",
    "\\quad\\text{and}\\quad \n",
    "\\lim_{x\\to 0} \\frac{1}{x^{2}} = +\\infty,\n",
    "$$  \n",
    "the bounds diverge in opposite directions.  \n",
    "\n",
    "Therefore, the function does not approach a finite value, and  \n",
    "$$\n",
    "\\boxed{\\text{The limit does not exist.}}\n",
    "$$  \n"
   ]
  }
 ],
 "metadata": {
  "kernelspec": {
   "display_name": "Python 3 (ipykernel)",
   "language": "python",
   "name": "python3"
  },
  "language_info": {
   "codemirror_mode": {
    "name": "ipython",
    "version": 3
   },
   "file_extension": ".py",
   "mimetype": "text/x-python",
   "name": "python",
   "nbconvert_exporter": "python",
   "pygments_lexer": "ipython3",
   "version": "3.12.6"
  }
 },
 "nbformat": 4,
 "nbformat_minor": 5
}
