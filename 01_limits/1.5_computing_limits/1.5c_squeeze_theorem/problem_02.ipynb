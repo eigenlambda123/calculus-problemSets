{
 "cells": [
  {
   "cell_type": "markdown",
   "id": "042c094a-72b3-4ed2-89fe-9ede62f029c0",
   "metadata": {},
   "source": [
    "### **Problem**\n",
    "\n",
    "**Find:**  \n",
    "$$\n",
    "\\lim_{x \\to 0} x^{2}\\cos\\!\\left(\\frac{1}{x^{2}}\\right).\n",
    "$$  "
   ]
  },
  {
   "cell_type": "markdown",
   "id": "92c11dd3-f8cd-4f4a-b64e-54f38b815822",
   "metadata": {},
   "source": [
    "---\n",
    "    \n",
    "### **Solution**\n",
    "\n",
    "We want to evaluate  \n",
    "$$\n",
    "\\lim_{x \\to 0} x^{2}\\cos\\!\\left(\\frac{1}{x^{2}}\\right).\n",
    "$$  \n",
    "\n",
    "Recall the cosine bound:  \n",
    "$$\n",
    "-1 \\le \\cos\\!\\left(\\tfrac{1}{x^{2}}\\right) \\le 1 \\qquad\\text{for all }x \\neq 0.\n",
    "$$  \n",
    "\n",
    "Multiply the inequality by $x^{2}$ (which is nonnegative for all real $x$) to get  \n",
    "$$\n",
    "-x^{2} \\le x^{2}\\cos\\!\\left(\\tfrac{1}{x^{2}}\\right) \\le x^{2}.\n",
    "$$  \n",
    "\n",
    "Now take limits as $x \\to 0$. Because  \n",
    "$$\n",
    "\\lim_{x\\to 0} -x^{2} = 0 \n",
    "\\quad\\text{and}\\quad \n",
    "\\lim_{x\\to 0} x^{2} = 0,\n",
    "$$  \n",
    "the Squeeze Theorem implies  \n",
    "$$\n",
    "\\lim_{x \\to 0} x^{2}\\cos\\!\\left(\\tfrac{1}{x^{2}}\\right) = 0.\n",
    "$$\n",
    "$$\n",
    "\\boxed{0}\n",
    "$$"
   ]
  }
 ],
 "metadata": {
  "kernelspec": {
   "display_name": "Python 3 (ipykernel)",
   "language": "python",
   "name": "python3"
  },
  "language_info": {
   "codemirror_mode": {
    "name": "ipython",
    "version": 3
   },
   "file_extension": ".py",
   "mimetype": "text/x-python",
   "name": "python",
   "nbconvert_exporter": "python",
   "pygments_lexer": "ipython3",
   "version": "3.12.6"
  }
 },
 "nbformat": 4,
 "nbformat_minor": 5
}
