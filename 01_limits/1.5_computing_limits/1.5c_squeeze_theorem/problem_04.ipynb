{
 "cells": [
  {
   "cell_type": "markdown",
   "id": "05f701e2-d77c-418a-b845-48e3041367fc",
   "metadata": {},
   "source": [
    "### **Problem**\n",
    "\n",
    "Let $g$ and $h$ be the functions defined by  \n",
    "$$\n",
    "g(x) = \\cos\\!\\left(\\frac{\\pi}{2} x\\right) + 2, \\quad h(x) = x^{2} + 3.\n",
    "$$  \n",
    "If $f$ is a function that satisfies  \n",
    "$$\n",
    "g(x) \\le f(x) \\le h(x), \\quad \\text{for } -1 \\le x \\le 5,\n",
    "$$  \n",
    "find  \n",
    "$$\n",
    "\\lim_{x \\to 0} f(x).\n",
    "$$  "
   ]
  },
  {
   "cell_type": "markdown",
   "id": "6ded4616-22ad-426d-8ed3-26d31ed11906",
   "metadata": {},
   "source": [
    "---\n",
    "\n",
    "### **Solution**\n",
    "\n",
    "We want to evaluate  \n",
    "$$\n",
    "\\lim_{x \\to 0} f(x).\n",
    "$$  \n",
    "\n",
    "Compute the limits of the bounding functions at $x = 0$:  \n",
    "$$\n",
    "\\lim_{x \\to 0} g(x) = \\cos\\!\\left(\\frac{\\pi}{2} \\cdot 0\\right) + 2 = \\cos(0) + 2 = 1 + 2 = 3\n",
    "$$  \n",
    "$$\n",
    "\\lim_{x \\to 0} h(x) = (0)^{2} + 3 = 3\n",
    "$$  \n",
    "\n",
    "Since the bounds are equal, the Squeeze Theorem implies  \n",
    "$$\n",
    "\\lim_{x \\to 0} f(x) = 3.\n",
    "$$\n",
    "\n",
    "$$\n",
    "\\boxed{3}\n",
    "$$\n"
   ]
  }
 ],
 "metadata": {
  "kernelspec": {
   "display_name": "Python 3 (ipykernel)",
   "language": "python",
   "name": "python3"
  },
  "language_info": {
   "codemirror_mode": {
    "name": "ipython",
    "version": 3
   },
   "file_extension": ".py",
   "mimetype": "text/x-python",
   "name": "python",
   "nbconvert_exporter": "python",
   "pygments_lexer": "ipython3",
   "version": "3.12.6"
  }
 },
 "nbformat": 4,
 "nbformat_minor": 5
}
