{
 "cells": [
  {
   "cell_type": "markdown",
   "id": "33d4d000-084a-45fe-9b29-06b0ba9f45ac",
   "metadata": {},
   "source": [
    "### **Problem**\n",
    "\n",
    "**Find:**  \n",
    "$$\n",
    "\\lim_{x \\to 2} f(x) \\quad \\text{given that } g(x) \\le f(x) \\le h(x),\n",
    "$$  \n",
    "where  \n",
    "$$\n",
    "g(x) = -x^{2} + 2x - 3, \\quad h(x) = 2x + 1.\n",
    "$$  "
   ]
  },
  {
   "cell_type": "markdown",
   "id": "7caa3039-61cc-4094-bff4-4955d2f596f4",
   "metadata": {},
   "source": [
    "\n",
    "---\n",
    "\n",
    "### **Solution**\n",
    "\n",
    "We want to evaluate  \n",
    "$$\n",
    "\\lim_{x \\to 2} f(x).\n",
    "$$  \n",
    "\n",
    "Compute the limits of the bounding functions at $x = 2$:  \n",
    "$$\n",
    "\\lim_{x \\to 2} g(x) = -(2^{2}) + 2(2) - 3 = -3\n",
    "$$  \n",
    "$$\n",
    "\\lim_{x \\to 2} h(x) = 2(2) + 1 = 5\n",
    "$$  \n",
    "\n",
    "Since the bounds are not equal, the Squeeze Theorem cannot give a unique value. All we can conclude is that  \n",
    "$$\n",
    "\\lim_{x \\to 2} f(x) \\in [-3, \\, 5].\n",
    "$$  \n",
    "$$\n",
    "\\boxed{\\text{The limit does not exist as a single value; } f(x) \\text{ is only bounded between } -3 \\text{ and } 5.}\n",
    "$$\n"
   ]
  }
 ],
 "metadata": {
  "kernelspec": {
   "display_name": "Python 3 (ipykernel)",
   "language": "python",
   "name": "python3"
  },
  "language_info": {
   "codemirror_mode": {
    "name": "ipython",
    "version": 3
   },
   "file_extension": ".py",
   "mimetype": "text/x-python",
   "name": "python",
   "nbconvert_exporter": "python",
   "pygments_lexer": "ipython3",
   "version": "3.12.6"
  }
 },
 "nbformat": 4,
 "nbformat_minor": 5
}
