{
 "cells": [
  {
   "cell_type": "markdown",
   "id": "e968d8f4-2ffd-4118-a930-20841e928a64",
   "metadata": {},
   "source": [
    "### **Problem** \n",
    "\n",
    "**Evaluate the Limit, If it exist:** \n",
    "$$\\lim_{z \\to\\ 4} \\frac{\\sqrt{z}-2}{z-4}$$\n",
    "\n",
    "---"
   ]
  },
  {
   "cell_type": "markdown",
   "id": "ffd21501-c64b-447c-807f-4f207d707128",
   "metadata": {},
   "source": [
    "### **Solution**\n",
    "\n",
    "We want to evaluate  \n",
    "\n",
    "$$\n",
    "\\lim_{z \\to 4} \\frac{\\sqrt{z} - 2}{z - 4}.\n",
    "$$  \n",
    "\n",
    "First, try direct substitution $z = 4$:  \n",
    "\n",
    "$$\n",
    "\\frac{\\sqrt{4} - 2}{4 - 4} = \\frac{2 - 2}{0} = \\frac{0}{0}.\n",
    "$$  \n",
    "\n",
    "This is the indeterminate form $\\tfrac{0}{0}$.  \n",
    "So, we simplify the expression.  \n",
    "\n",
    "**Rationalizing the numerator:**\n",
    "Multiply numerator and denominator by the conjugate $\\sqrt{z} + 2$:  \n",
    "\n",
    "$$\n",
    "\\frac{\\sqrt{z} - 2}{z - 4} \\cdot \\frac{\\sqrt{z} + 2}{\\sqrt{z} + 2}\n",
    "= \\frac{(\\sqrt{z} - 2)(\\sqrt{z} + 2)}{(z - 4)(\\sqrt{z} + 2)}.\n",
    "$$  \n",
    "\n",
    "The numerator simplifies:  \n",
    "\n",
    "$$\n",
    "(\\sqrt{z} - 2)(\\sqrt{z} + 2) = z - 4.\n",
    "$$  \n",
    "\n",
    "So the expression becomes:  \n",
    "\n",
    "$$\n",
    "\\frac{z - 4}{(z - 4)(\\sqrt{z} + 2)}.\n",
    "$$  \n",
    "\n",
    "Cancel $(z - 4)$:  \n",
    "\n",
    "$$\n",
    "= \\frac{1}{\\sqrt{z} + 2}.\n",
    "$$  \n",
    "\n",
    "Now substitute $z = 4$:  \n",
    "\n",
    "$$\n",
    "\\frac{1}{\\sqrt{4} + 2} = \\frac{1}{2 + 2} = \\frac{1}{4}.\n",
    "$$  \n",
    "\n",
    "Therefore,  \n",
    "\n",
    "$$\n",
    "\\boxed{\\lim_{z \\to 4} \\frac{\\sqrt{z} - 2}{z - 4} = \\frac{1}{4}}\n",
    "$$  \n"
   ]
  }
 ],
 "metadata": {
  "kernelspec": {
   "display_name": "Python 3 (ipykernel)",
   "language": "python",
   "name": "python3"
  },
  "language_info": {
   "codemirror_mode": {
    "name": "ipython",
    "version": 3
   },
   "file_extension": ".py",
   "mimetype": "text/x-python",
   "name": "python",
   "nbconvert_exporter": "python",
   "pygments_lexer": "ipython3",
   "version": "3.12.6"
  }
 },
 "nbformat": 4,
 "nbformat_minor": 5
}
