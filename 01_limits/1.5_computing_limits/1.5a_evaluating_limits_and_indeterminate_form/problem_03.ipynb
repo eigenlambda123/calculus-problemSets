{
 "cells": [
  {
   "cell_type": "markdown",
   "id": "41059b66-d304-4693-a6b3-b7abf855575c",
   "metadata": {},
   "source": [
    "### **Problem** \n",
    "\n",
    "**Evaluate the Limit, If it exist:** \n",
    "$$\\lim_{x \\to\\ -5} \\frac{x^{2}-25}{x^{2}+2x-15}$$\n",
    "\n",
    "---"
   ]
  },
  {
   "cell_type": "markdown",
   "id": "211b8a2b-ed6e-425e-8843-9e198bd2b84d",
   "metadata": {},
   "source": [
    "### **Solution**\n",
    "\n",
    "We want to evaluate  \n",
    "$$\n",
    "\\lim_{x \\to -5} \\frac{x^{2} - 25}{x^{2} + 2x - 15}.\n",
    "$$  \n",
    "\n",
    "First, try direct substitution \\(x = -5\\):  \n",
    "\n",
    "$$\n",
    "\\frac{(-5)^{2} - 25}{(-5)^{2} + 2(-5) - 15}\n",
    "= \\frac{25 - 25}{25 - 10 - 15}\n",
    "= \\frac{0}{0}.\n",
    "$$  \n",
    "\n",
    "This is the indeterminate form $\\tfrac{0}{0}$.  \n",
    "So, we simplify the expression.  \n",
    "\n",
    "Factor numerator and denominator:  \n",
    "$$\n",
    "x^{2} - 25 = (x - 5)(x + 5),\n",
    "$$\n",
    "$$\n",
    "x^{2} + 2x - 15 = (x + 5)(x - 3).\n",
    "$$\n",
    "\n",
    "So the limit becomes  \n",
    "$$\n",
    "\\lim_{x \\to -5} \\frac{(x - 5)(x + 5)}{(x + 5)(x - 3)}.\n",
    "$$  \n",
    "Cancel the common factor $(x + 5)$:  \n",
    "$$\n",
    "\\lim_{x \\to -5} \\frac{x - 5}{x - 3}.\n",
    "$$  \n",
    "\n",
    "Now substitute $x = -5$:  \n",
    "\n",
    "$$\n",
    "= \\frac{-5 - 5}{-5 - 3}\n",
    "= \\frac{-10}{-8}\n",
    "= \\frac{5}{4}.\n",
    "$$\n",
    "Therefore,  \n",
    "$$\n",
    "\\boxed{\\lim_{x \\to -5} \\frac{x^{2} - 25}{x^{2} + 2x - 15} = \\frac{5}{4}}\n",
    "$$  \n"
   ]
  }
 ],
 "metadata": {
  "kernelspec": {
   "display_name": "Python 3 (ipykernel)",
   "language": "python",
   "name": "python3"
  },
  "language_info": {
   "codemirror_mode": {
    "name": "ipython",
    "version": 3
   },
   "file_extension": ".py",
   "mimetype": "text/x-python",
   "name": "python",
   "nbconvert_exporter": "python",
   "pygments_lexer": "ipython3",
   "version": "3.12.6"
  }
 },
 "nbformat": 4,
 "nbformat_minor": 5
}
