{
 "cells": [
  {
   "cell_type": "markdown",
   "id": "590db8c6-4e52-4a27-be70-698503189461",
   "metadata": {},
   "source": [
    "### **Problem** \n",
    "\n",
    "**Evaluate the Limit, If it exist:** \n",
    "$$\\lim_{x \\to\\ -3} \\frac{\\sqrt{2x+22}-4}{x+3}$$\n",
    "\n",
    "---"
   ]
  },
  {
   "cell_type": "markdown",
   "id": "480842d1-912c-443a-95c4-c0a2d08bcb31",
   "metadata": {},
   "source": [
    "### **Solution**\n",
    "\n",
    "We want to evaluate  \n",
    "$$\n",
    "\\lim_{x \\to -3} \\frac{\\sqrt{2x+22} - 4}{x+3}.\n",
    "$$  \n",
    "\n",
    "First, try direct substitution $x = -3$:  \n",
    "$$\n",
    "\\frac{\\sqrt{2(-3)+22} - 4}{-3+3}\n",
    "= \\frac{\\sqrt{-6+22} - 4}{0}\n",
    "= \\frac{\\sqrt{16} - 4}{0}\n",
    "= \\frac{4 - 4}{0}\n",
    "= \\frac{0}{0}.\n",
    "$$  \n",
    "\n",
    "This is the indeterminate form $\\tfrac{0}{0}$.  \n",
    "So, we simplify the expression.  \n",
    "\n",
    "**Rationalizing the numerator:**\n",
    "Multiply numerator and denominator by the conjugate $\\sqrt{2x+22} + 4$:  \n",
    "\n",
    "$$\n",
    "\\frac{\\sqrt{2x+22} - 4}{x+3} \\cdot \\frac{\\sqrt{2x+22} + 4}{\\sqrt{2x+22} + 4}\n",
    "= \\frac{(2x+22) - 16}{(x+3)(\\sqrt{2x+22} + 4)}.\n",
    "$$  \n",
    "\n",
    "Simplify numerator:  \n",
    "$$\n",
    "(2x+22) - 16 = 2x + 6 = 2(x+3).\n",
    "$$  \n",
    "\n",
    "So the expression becomes:  \n",
    "$$\n",
    "\\frac{2(x+3)}{(x+3)(\\sqrt{2x+22} + 4)}.\n",
    "$$  \n",
    "\n",
    "Cancel $(x+3)$:  \n",
    "$$\n",
    "= \\frac{2}{\\sqrt{2x+22} + 4}.\n",
    "$$  \n",
    "\n",
    "Now substitute $x = -3$:  \n",
    "$$\n",
    "\\frac{2}{\\sqrt{2(-3)+22} + 4}\n",
    "= \\frac{2}{\\sqrt{16} + 4}\n",
    "= \\frac{2}{4 + 4}\n",
    "= \\frac{2}{8}\n",
    "= \\frac{1}{4}.\n",
    "$$  \n",
    "\n",
    "Therefore,  \n",
    "$$\n",
    "\\boxed{\\lim_{x \\to -3} \\frac{\\sqrt{2x+22} - 4}{x+3} = \\frac{1}{4}}\n",
    "$$  "
   ]
  }
 ],
 "metadata": {
  "kernelspec": {
   "display_name": "Python 3 (ipykernel)",
   "language": "python",
   "name": "python3"
  },
  "language_info": {
   "codemirror_mode": {
    "name": "ipython",
    "version": 3
   },
   "file_extension": ".py",
   "mimetype": "text/x-python",
   "name": "python",
   "nbconvert_exporter": "python",
   "pygments_lexer": "ipython3",
   "version": "3.12.6"
  }
 },
 "nbformat": 4,
 "nbformat_minor": 5
}
