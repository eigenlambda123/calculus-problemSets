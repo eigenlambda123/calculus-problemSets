{
 "cells": [
  {
   "cell_type": "markdown",
   "id": "6bf31378-2872-438b-b4f9-63a3e15245c3",
   "metadata": {},
   "source": [
    "### **Problem** \n",
    "\n",
    "**Evaluate the Limit, If it exist:** \n",
    "$$\\lim_{y \\to\\ 7} \\frac{y^{2}-4y-21}{3y^{2}-17y-28}$$\n",
    "\n",
    "---"
   ]
  },
  {
   "cell_type": "markdown",
   "id": "ca0d9fb1-74ca-433e-9127-5778bd9434eb",
   "metadata": {},
   "source": [
    "### **Solution**\n",
    "\n",
    "We want to evaluate  \n",
    "$$\n",
    "\\lim_{y \\to 7} \\frac{y^{2} - 4y - 21}{3y^{2} - 17y - 28}.\n",
    "$$  \n",
    "\n",
    "First, try direct substitution $y = 7$:  \n",
    "$$\n",
    "\\frac{7^{2} - 4(7) - 21}{3(7)^{2} - 17(7) - 28}\n",
    "= \\frac{49 - 28 - 21}{147 - 119 - 28}\n",
    "= \\frac{0}{0}.\n",
    "$$  \n",
    "\n",
    "This is the indeterminate form $\\tfrac{0}{0}$.  \n",
    "So, we simplify the expression.  \n",
    "\n",
    "**Factor numerator and denominator:**\n",
    "$$\n",
    "y^{2} - 4y - 21 = (y - 7)(y + 3),\n",
    "$$\n",
    "$$\n",
    "3y^{2} - 17y - 28 = (3y + 4)(y - 7).\n",
    "$$\n",
    "\n",
    "So the limit becomes  \n",
    "$$\n",
    "\\lim_{y \\to 7} \\frac{(y - 7)(y + 3)}{(3y + 4)(y - 7)}.\n",
    "$$  \n",
    "Cancel the common factor $(y - 7)$:  \n",
    "$$\n",
    "\\lim_{y \\to 7} \\frac{y + 3}{3y + 4}.\n",
    "$$  \n",
    "Now substitute $y = 7$:  \n",
    "$$\n",
    "= \\frac{7 + 3}{3(7) + 4}\n",
    "= \\frac{10}{21 + 4}\n",
    "= \\frac{10}{25}.\n",
    "$$  \n",
    "Simplify:  \n",
    "$$\n",
    "= \\frac{2}{5}.\n",
    "$$  \n",
    "Therefore,  \n",
    "$$\n",
    "\\boxed{\\lim_{y \\to 7} \\frac{y^{2} - 4y - 21}{3y^{2} - 17y - 28} = \\frac{2}{5}}\n",
    "$$  \n"
   ]
  }
 ],
 "metadata": {
  "kernelspec": {
   "display_name": "Python 3 (ipykernel)",
   "language": "python",
   "name": "python3"
  },
  "language_info": {
   "codemirror_mode": {
    "name": "ipython",
    "version": 3
   },
   "file_extension": ".py",
   "mimetype": "text/x-python",
   "name": "python",
   "nbconvert_exporter": "python",
   "pygments_lexer": "ipython3",
   "version": "3.12.6"
  }
 },
 "nbformat": 4,
 "nbformat_minor": 5
}
