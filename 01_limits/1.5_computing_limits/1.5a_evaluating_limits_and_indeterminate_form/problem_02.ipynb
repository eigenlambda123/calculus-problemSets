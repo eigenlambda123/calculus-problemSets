{
 "cells": [
  {
   "cell_type": "markdown",
   "id": "d8152cde-fe7e-40b2-8a43-c57cf25a0ddf",
   "metadata": {},
   "source": [
    "### **Problem** \n",
    "\n",
    "**Evaluate the Limit, If it exist:** \n",
    "$$\\lim_{x \\to\\ -3} \\frac{6+4t}{t^{2}+1}$$\n",
    "\n",
    "---"
   ]
  },
  {
   "cell_type": "markdown",
   "id": "5ce76637-d507-47bb-8702-84e0f1052ffe",
   "metadata": {},
   "source": [
    "### **Solution**\n",
    "\n",
    "We want to evaluate  \n",
    "\n",
    "$$\n",
    "\\lim_{t \\to -3} \\frac{6 + 4t}{t^{2} + 1}.\n",
    "$$ \n",
    "\n",
    "The function is a **rational function**, and since the denominator  \n",
    "$t^{2} + 1 \\neq 0$ for all real $t$, the function is continuous everywhere.  \n",
    "Therefore, we can directly substitute \\(t = -3\\).  \n",
    "\n",
    "$$\n",
    "= \\frac{6 + 4(-3)}{(-3)^{2} + 1}\n",
    "$$\n",
    "\n",
    "$$\n",
    "= \\frac{6 - 12}{9 + 1}\n",
    "$$\n",
    "\n",
    "$$\n",
    "= \\frac{-6}{10}\n",
    "$$\n",
    "\n",
    "$$\n",
    "= -\\frac{3}{5}\n",
    "$$\n",
    "\n",
    "Therefore,  \n",
    "$$\n",
    "\\boxed{\\lim_{t \\to -3} \\frac{6 + 4t}{t^{2} + 1} = -\\frac{3}{5}}\n",
    "$$  \n"
   ]
  }
 ],
 "metadata": {
  "kernelspec": {
   "display_name": "Python 3 (ipykernel)",
   "language": "python",
   "name": "python3"
  },
  "language_info": {
   "codemirror_mode": {
    "name": "ipython",
    "version": 3
   },
   "file_extension": ".py",
   "mimetype": "text/x-python",
   "name": "python",
   "nbconvert_exporter": "python",
   "pygments_lexer": "ipython3",
   "version": "3.12.6"
  }
 },
 "nbformat": 4,
 "nbformat_minor": 5
}
