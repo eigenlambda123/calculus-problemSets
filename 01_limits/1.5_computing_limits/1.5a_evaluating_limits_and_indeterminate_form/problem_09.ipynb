{
 "cells": [
  {
   "cell_type": "markdown",
   "id": "6ede96fc-a2dd-4709-bf36-afec00eb145f",
   "metadata": {},
   "source": [
    "### **Problem** \n",
    "\n",
    "**Evaluate the Limit, If it exist:** \n",
    "$$\\lim_{x \\to\\ 0} \\frac{x}{3-\\sqrt{x+9}}$$\n",
    "\n",
    "---"
   ]
  },
  {
   "cell_type": "markdown",
   "id": "8ac36b73-3652-4818-b813-4598a942b2e6",
   "metadata": {},
   "source": [
    "### **Solution**\n",
    "\n",
    "We want to evaluate  \n",
    "\n",
    "$$\n",
    "\\lim_{x \\to 0} \\frac{x}{3 - \\sqrt{x+9}}.\n",
    "$$  \n",
    "\n",
    "First, try direct substitution $x = 0$:  \n",
    "\n",
    "$$\n",
    "\\frac{0}{3 - \\sqrt{0+9}}\n",
    "= \\frac{0}{3 - 3}\n",
    "= \\frac{0}{0}.\n",
    "$$  \n",
    "\n",
    "This is the indeterminate form $\\tfrac{0}{0}$.  \n",
    "So, we simplify the expression.  \n",
    "\n",
    "**Rationalizing the denominator:**\n",
    "Multiply numerator and denominator by the conjugate $3 + \\sqrt{x+9}$:  \n",
    "\n",
    "$$\n",
    "\\frac{x}{3 - \\sqrt{x+9}} \\cdot \\frac{3 + \\sqrt{x+9}}{3 + \\sqrt{x+9}}\n",
    "= \\frac{x(3 + \\sqrt{x+9})}{9 - (x+9)}.\n",
    "$$  \n",
    "\n",
    "Simplify denominator:  \n",
    "\n",
    "$$\n",
    "9 - (x+9) = -x.\n",
    "$$  \n",
    "\n",
    "So the expression becomes:  \n",
    "\n",
    "$$\n",
    "\\frac{x(3 + \\sqrt{x+9})}{-x}.\n",
    "$$  \n",
    "\n",
    "Cancel $x$ (for $x \\neq 0$):  \n",
    "\n",
    "$$\n",
    "= -(3 + \\sqrt{x+9}).\n",
    "$$  \n",
    "\n",
    "Now substitute $x = 0$:  \n",
    "\n",
    "$$\n",
    "-(3 + \\sqrt{0+9}) = -(3 + 3) = -6.\n",
    "$$  \n",
    "\n",
    "Therefore,  \n",
    "\n",
    "$$\n",
    "\\boxed{\\lim_{x \\to 0} \\frac{x}{3 - \\sqrt{x+9}} = -6}\n",
    "$$  \n"
   ]
  }
 ],
 "metadata": {
  "kernelspec": {
   "display_name": "Python 3 (ipykernel)",
   "language": "python",
   "name": "python3"
  },
  "language_info": {
   "codemirror_mode": {
    "name": "ipython",
    "version": 3
   },
   "file_extension": ".py",
   "mimetype": "text/x-python",
   "name": "python",
   "nbconvert_exporter": "python",
   "pygments_lexer": "ipython3",
   "version": "3.12.6"
  }
 },
 "nbformat": 4,
 "nbformat_minor": 5
}
