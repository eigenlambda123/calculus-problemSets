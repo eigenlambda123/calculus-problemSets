{
 "cells": [
  {
   "cell_type": "markdown",
   "id": "bdd4b259-2380-4d8f-858f-05bdd1800516",
   "metadata": {},
   "source": [
    "### **Problem**\n",
    "\n",
    "**Evaluate the Limit, If it exist:**\n",
    "$$\\lim_{x \\to\\ 2} (8-3x+12x^{2})$$\n",
    "\n",
    "---"
   ]
  },
  {
   "cell_type": "markdown",
   "id": "b2bb3f91-3ac6-4292-8934-1213742cf668",
   "metadata": {},
   "source": [
    "### **Solution**\n",
    "\n",
    "We want to evaluate  \n",
    "\n",
    "$$\n",
    "\\lim_{x \\to 2} \\big( 8 - 3x + 12x^{2} \\big).\n",
    "$$  \n",
    "\n",
    "Since the expression is a **polynomial**, it is continuous for all real values of \\(x\\).  \n",
    "That means we can directly substitute \\(x = 2\\) into the function.  \n",
    "\n",
    "$$\n",
    "= 8 - 3(2) + 12(2^{2})\n",
    "$$\n",
    "$$\n",
    "= 8 - 6 + 12(4)\n",
    "$$\n",
    "$$\n",
    "= 2 + 48\n",
    "$$\n",
    "$$\n",
    "= 50\n",
    "$$\n",
    "Therefore,  \n",
    "$$\n",
    "\\boxed{\\lim_{x \\to 2} (8 - 3x + 12x^{2}) = 50}.\n",
    "$$ "
   ]
  }
 ],
 "metadata": {
  "kernelspec": {
   "display_name": "Python 3 (ipykernel)",
   "language": "python",
   "name": "python3"
  },
  "language_info": {
   "codemirror_mode": {
    "name": "ipython",
    "version": 3
   },
   "file_extension": ".py",
   "mimetype": "text/x-python",
   "name": "python",
   "nbconvert_exporter": "python",
   "pygments_lexer": "ipython3",
   "version": "3.12.6"
  }
 },
 "nbformat": 4,
 "nbformat_minor": 5
}
