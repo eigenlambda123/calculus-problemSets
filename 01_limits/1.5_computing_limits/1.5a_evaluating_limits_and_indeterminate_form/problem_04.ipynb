{
 "cells": [
  {
   "cell_type": "markdown",
   "id": "57555a04-e299-465e-a6c2-8a0cc3507c48",
   "metadata": {},
   "source": [
    "### **Problem** \n",
    "\n",
    "**Evaluate the Limit, If it exist:** \n",
    "$$\\lim_{z \\to\\ 8} \\frac{2z^{2}-17z+8}{8-z}$$\n",
    "\n",
    "---"
   ]
  },
  {
   "cell_type": "markdown",
   "id": "30a1510b-e6d6-448b-bb33-1b80c29037c1",
   "metadata": {},
   "source": [
    "### **Solution**\n",
    "\n",
    "We want to evaluate  \n",
    "$$\n",
    "\\lim_{z \\to 8} \\frac{2z^{2} - 17z + 8}{8 - z}.\n",
    "$$  \n",
    "First, try direct substitution $z = 8$:  \n",
    "\n",
    "$$\n",
    "\\frac{2(8)^{2} - 17(8) + 8}{8 - 8}\n",
    "= \\frac{128 - 136 + 8}{0}\n",
    "= \\frac{0}{0}.\n",
    "$$  \n",
    "\n",
    "This is the indeterminate form $\\tfrac{0}{0}$.  \n",
    "So, we simplify the expression.  \n",
    "\n",
    "Factor the numerator:  \n",
    "$$\n",
    "2z^{2} - 17z + 8.\n",
    "$$\n",
    "\n",
    "We look for factors of $2z^{2} - 17z + 8$.  \n",
    "The correct factorization is:  \n",
    "$$\n",
    "2z^{2} - 17z + 8 = (2z - 1)(z - 8).\n",
    "$$\n",
    "\n",
    "So the expression becomes:  \n",
    "$$\n",
    "\\frac{(2z - 1)(z - 8)}{8 - z}.\n",
    "$$\n",
    "\n",
    "Notice that $z - 8 = -(8 - z)$.  \n",
    "Therefore:  \n",
    "$$\n",
    "\\frac{(2z - 1)(z - 8)}{8 - z}\n",
    "= \\frac{(2z - 1)(-(8 - z))}{8 - z}\n",
    "= -(2z - 1).\n",
    "$$  \n",
    "Now take the limit as $z \\to 8$:  \n",
    "$$\n",
    "= -(2(8) - 1)\n",
    "= -(16 - 1)\n",
    "= -15.\n",
    "$$  \n",
    "Therefore,  \n",
    "\n",
    "$$\n",
    "\\boxed{\\lim_{z \\to 8} \\frac{2z^{2} - 17z + 8}{8 - z} = -15}\n",
    "$$  "
   ]
  }
 ],
 "metadata": {
  "kernelspec": {
   "display_name": "Python 3 (ipykernel)",
   "language": "python",
   "name": "python3"
  },
  "language_info": {
   "codemirror_mode": {
    "name": "ipython",
    "version": 3
   },
   "file_extension": ".py",
   "mimetype": "text/x-python",
   "name": "python",
   "nbconvert_exporter": "python",
   "pygments_lexer": "ipython3",
   "version": "3.12.6"
  }
 },
 "nbformat": 4,
 "nbformat_minor": 5
}
