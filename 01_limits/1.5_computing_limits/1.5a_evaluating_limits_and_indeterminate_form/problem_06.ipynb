{
 "cells": [
  {
   "cell_type": "markdown",
   "id": "60711b98-fc97-4639-9bb6-bcb8953955e1",
   "metadata": {},
   "source": [
    "### **Problem** \n",
    "\n",
    "**Evaluate the Limit, If it exist:** \n",
    "$$\\lim_{h \\to\\ 0} \\frac{(6+h)^{2}-36}{h}$$\n",
    "\n",
    "---"
   ]
  },
  {
   "cell_type": "markdown",
   "id": "9c65921c-bf74-4695-bdaa-7536c0b0f807",
   "metadata": {},
   "source": [
    "### **Solution**\n",
    "\n",
    "We want to evaluate  \n",
    "\n",
    "$$\n",
    "\\lim_{h \\to 0} \\frac{(6+h)^{2} - 36}{h}.\n",
    "$$  \n",
    "\n",
    "First, expand the numerator:  \n",
    "\n",
    "$$\n",
    "(6+h)^{2} - 36 = (36 + 12h + h^{2}) - 36 = 12h + h^{2}.\n",
    "$$ \n",
    "\n",
    "So the expression becomes  \n",
    "\n",
    "$$\n",
    "\\frac{12h + h^{2}}{h}.\n",
    "$$  \n",
    "\n",
    "Factor $h$ in the numerator:  \n",
    "\n",
    "$$\n",
    "\\frac{h(12 + h)}{h}.\n",
    "$$ \n",
    "\n",
    "For $h \\neq 0$, cancel $h$:  \n",
    "\n",
    "$$\n",
    "= 12 + h.\n",
    "$$ \n",
    "\n",
    "Now take the limit as \\(h \\to 0\\):  \n",
    "\n",
    "$$\n",
    "\\lim_{h \\to 0} (12 + h) = 12.\n",
    "$$  \n",
    "\n",
    "Therefore,  \n",
    "\n",
    "$$\n",
    "\\boxed{\\lim_{h \\to 0} \\frac{(6+h)^{2} - 36}{h} = 12}\n",
    "$$  \n"
   ]
  }
 ],
 "metadata": {
  "kernelspec": {
   "display_name": "Python 3 (ipykernel)",
   "language": "python",
   "name": "python3"
  },
  "language_info": {
   "codemirror_mode": {
    "name": "ipython",
    "version": 3
   },
   "file_extension": ".py",
   "mimetype": "text/x-python",
   "name": "python",
   "nbconvert_exporter": "python",
   "pygments_lexer": "ipython3",
   "version": "3.12.6"
  }
 },
 "nbformat": 4,
 "nbformat_minor": 5
}
