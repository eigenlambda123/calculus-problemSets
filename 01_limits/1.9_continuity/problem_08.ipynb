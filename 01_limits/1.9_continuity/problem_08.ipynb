{
 "cells": [
  {
   "cell_type": "markdown",
   "id": "e6a14861-6dc9-4327-b1a8-55450b7c6a85",
   "metadata": {},
   "source": [
    "### **Problem**\n",
    "\n",
    "Determine where the following function is discontinuous.\n",
    "\n",
    "$$\n",
    "f(x) = \\frac{x^{2}-9}{3x^{2}+2x-8}\n",
    "$$"
   ]
  },
  {
   "cell_type": "markdown",
   "id": "d7ec8967-09ed-4cd7-b5e3-18e2465564ef",
   "metadata": {},
   "source": [
    "---\n",
    "\n",
    "### **Solution**\n",
    "\n",
    "A rational function is discontinuous where its denominator is zero.\n",
    "\n",
    "**Find where the denominator is zero:**\n",
    "Solve the equation:\n",
    "$$3x^{2}+2x-8 = 0$$\n",
    "\n",
    "Using the quadratic formula:\n",
    "$$x = \\frac{-2 \\pm \\sqrt{2^2 - 4(3)(-8)}}{2(3)} = \\frac{-2 \\pm \\sqrt{4 + 96}}{6} = \\frac{-2 \\pm \\sqrt{100}}{6} = \\frac{-2 \\pm 10}{6}$$\n",
    "\n",
    "This gives:\n",
    "$$x = \\frac{-2 + 10}{6} = \\frac{8}{6} = \\frac{4}{3}$$\n",
    "$$x = \\frac{-2 - 10}{6} = \\frac{-12}{6} = -2$$\n",
    "\n",
    "**Conclusion:**\n",
    "The function $f(x)$ is discontinuous at $x = -2$ and $x = \\frac{4}{3}$."
   ]
  }
 ],
 "metadata": {
  "kernelspec": {
   "display_name": "Python 3 (ipykernel)",
   "language": "python",
   "name": "python3"
  },
  "language_info": {
   "codemirror_mode": {
    "name": "ipython",
    "version": 3
   },
   "file_extension": ".py",
   "mimetype": "text/x-python",
   "name": "python",
   "nbconvert_exporter": "python",
   "pygments_lexer": "ipython3",
   "version": "3.12.6"
  }
 },
 "nbformat": 4,
 "nbformat_minor": 5
}
