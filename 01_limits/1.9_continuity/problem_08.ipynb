{
 "cells": [
  {
   "cell_type": "markdown",
   "id": "e6a14861-6dc9-4327-b1a8-55450b7c6a85",
   "metadata": {},
   "source": [
    "### **Problem**\n",
    "\n",
    "8\\. Determine where the following function is discontinuous.\n",
    "\n",
    "$$\n",
    "f(x) = \\frac{x^{2}-9}{3x^{2}+2x-8}\n",
    "$$"
   ]
  },
  {
   "cell_type": "code",
   "execution_count": null,
   "id": "0fe6ad59-ba6f-465e-b5ed-53e5381867b1",
   "metadata": {},
   "outputs": [],
   "source": []
  }
 ],
 "metadata": {
  "kernelspec": {
   "display_name": "Python 3 (ipykernel)",
   "language": "python",
   "name": "python3"
  },
  "language_info": {
   "codemirror_mode": {
    "name": "ipython",
    "version": 3
   },
   "file_extension": ".py",
   "mimetype": "text/x-python",
   "name": "python",
   "nbconvert_exporter": "python",
   "pygments_lexer": "ipython3",
   "version": "3.12.6"
  }
 },
 "nbformat": 4,
 "nbformat_minor": 5
}
