{
 "cells": [
  {
   "cell_type": "markdown",
   "id": "d4fab437-552c-4f3d-8d2e-187317a6fc18",
   "metadata": {},
   "source": [
    "### **Problem**\n",
    "\n",
    "Determine where the following function is discontinuous.\n",
    "\n",
    "$$\n",
    "g(z) = \\frac{1}{2-4cos(3z)}\n",
    "$$"
   ]
  },
  {
   "cell_type": "markdown",
   "id": "0220a710-0238-4eb8-a7c3-11b11f4aa307",
   "metadata": {},
   "source": [
    "---\n",
    "\n",
    "### **Solution**\n",
    "\n",
    "A rational function is discontinuous where its denominator is zero.\n",
    "\n",
    "**Find where the denominator is zero:**\n",
    "Set the denominator equal to zero:\n",
    "$$2 - 4\\cos(3z) = 0$$\n",
    "\n",
    "Solve for $\\cos(3z)$:\n",
    "$$4\\cos(3z) = 2$$\n",
    "$$\\cos(3z) = \\frac{1}{2}$$\n",
    "\n",
    "**Solve for $3z$:**\n",
    "We know that $\\cos(\\theta) = \\frac{1}{2}$ when:\n",
    "$$\\theta = \\frac{\\pi}{3} + 2\\pi n \\quad \\text{or} \\quad \\theta = -\\frac{\\pi}{3} + 2\\pi n \\quad \\text{for any integer } n$$\n",
    "\n",
    "So for $3z$:\n",
    "$$3z = \\frac{\\pi}{3} + 2\\pi n \\quad \\text{or} \\quad 3z = -\\frac{\\pi}{3} + 2\\pi n$$\n",
    "\n",
    "**Solve for $z$:**\n",
    "Divide by 3:\n",
    "$$z = \\frac{\\pi}{9} + \\frac{2\\pi n}{3} \\quad \\text{or} \\quad z = -\\frac{\\pi}{9} + \\frac{2\\pi n}{3}$$\n",
    "\n",
    "**Conclusion:**\n",
    "The function $g(z)$ is discontinuous at all values of $z$ of the form:\n",
    "$$z = \\frac{\\pi}{9} + \\frac{2\\pi n}{3} \\quad \\text{and} \\quad z = -\\frac{\\pi}{9} + \\frac{2\\pi n}{3}$$\n",
    "for any integer $n$."
   ]
  }
 ],
 "metadata": {
  "kernelspec": {
   "display_name": "Python 3 (ipykernel)",
   "language": "python",
   "name": "python3"
  },
  "language_info": {
   "codemirror_mode": {
    "name": "ipython",
    "version": 3
   },
   "file_extension": ".py",
   "mimetype": "text/x-python",
   "name": "python",
   "nbconvert_exporter": "python",
   "pygments_lexer": "ipython3",
   "version": "3.12.6"
  }
 },
 "nbformat": 4,
 "nbformat_minor": 5
}
