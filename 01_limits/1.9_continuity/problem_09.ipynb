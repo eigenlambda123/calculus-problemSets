{
 "cells": [
  {
   "cell_type": "markdown",
   "id": "cc537118-addb-49a4-93e6-e8cad83531b5",
   "metadata": {},
   "source": [
    "### **Problem**\n",
    "\n",
    "Determine where the following function is discontinuous.\n",
    "\n",
    "$$\n",
    "f(t) = \\frac{8t}{t^2 - 9t-1}\n",
    "$$"
   ]
  },
  {
   "cell_type": "markdown",
   "id": "80ead308-3d52-4b76-8e84-693123c6053b",
   "metadata": {},
   "source": [
    "---\n",
    "\n",
    "### **Solution**\n",
    "\n",
    "A rational function is discontinuous where its denominator is zero.\n",
    "\n",
    "**Find where the denominator is zero:**\n",
    "Solve the equation:\n",
    "$$t^2 - 9t - 1 = 0$$\n",
    "\n",
    "Using the quadratic formula:\n",
    "$$t = \\frac{9 \\pm \\sqrt{(-9)^2 - 4(1)(-1)}}{2(1)} = \\frac{9 \\pm \\sqrt{81 + 4}}{2} = \\frac{9 \\pm \\sqrt{85}}{2}$$\n",
    "\n",
    "**Conclusion:**\n",
    "The function $f(t)$ is discontinuous at $t = \\frac{9 + \\sqrt{85}}{2}$ and $t = \\frac{9 - \\sqrt{85}}{2}$.\n"
   ]
  }
 ],
 "metadata": {
  "kernelspec": {
   "display_name": "Python 3 (ipykernel)",
   "language": "python",
   "name": "python3"
  },
  "language_info": {
   "codemirror_mode": {
    "name": "ipython",
    "version": 3
   },
   "file_extension": ".py",
   "mimetype": "text/x-python",
   "name": "python",
   "nbconvert_exporter": "python",
   "pygments_lexer": "ipython3",
   "version": "3.12.6"
  }
 },
 "nbformat": 4,
 "nbformat_minor": 5
}
