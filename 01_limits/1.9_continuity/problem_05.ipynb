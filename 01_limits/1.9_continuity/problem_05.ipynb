{
 "cells": [
  {
   "cell_type": "markdown",
   "id": "4e164465-39f1-4d1d-9b21-7dd304142101",
   "metadata": {},
   "source": [
    "### **Problem**\n",
    "\n",
    "Using only Properties 1- 9 from the Limit Properties section, one-sided limit properties (if needed) and the definition of continuity determine if the following function is continuous or discontinuous at (a) $x = 4$, (b) $x = 6$?\n",
    "\n",
    "$$\n",
    "f(x) = \\begin{cases}\n",
    "x - 4 & \\text{if } x \\leq 6 \\\\\n",
    "I - x & \\text{if } x > 6\n",
    "\\end{cases}\n",
    "$$"
   ]
  },
  {
   "cell_type": "code",
   "execution_count": null,
   "id": "4bbde048-c94e-48f3-a57a-c2d3dca871c0",
   "metadata": {},
   "outputs": [],
   "source": []
  }
 ],
 "metadata": {
  "kernelspec": {
   "display_name": "Python 3 (ipykernel)",
   "language": "python",
   "name": "python3"
  },
  "language_info": {
   "codemirror_mode": {
    "name": "ipython",
    "version": 3
   },
   "file_extension": ".py",
   "mimetype": "text/x-python",
   "name": "python",
   "nbconvert_exporter": "python",
   "pygments_lexer": "ipython3",
   "version": "3.12.6"
  }
 },
 "nbformat": 4,
 "nbformat_minor": 5
}
