{
 "cells": [
  {
   "cell_type": "markdown",
   "id": "4e164465-39f1-4d1d-9b21-7dd304142101",
   "metadata": {},
   "source": [
    "### **Problems**\n",
    "\n",
    "Using only Properties 1- 9 from the Limit Properties section, one-sided limit properties (if needed) and the definition of continuity determine if the following function is continuous or discontinuous at (a) $x = 4$, (b) $x = 6$?\n",
    "\n",
    "$$\n",
    "f(x) = \\begin{cases}\n",
    "x - 4 & \\text{if } x \\leq 6 \\\\\n",
    "I - x & \\text{if } x > 6\n",
    "\\end{cases}\n",
    "$$"
   ]
  },
  {
   "cell_type": "markdown",
   "id": "5fc27f7d-6e87-4a52-b2c7-71f154584dc3",
   "metadata": {},
   "source": [
    "---\n",
    "\n",
    "### **Solutions**\n",
    "\n",
    "A piecewise function is continuous at a point if the limit from the left equals the limit from the right and both equal the function value at that point.\n",
    "\n",
    "**At $ x = 4 $:**\n",
    "- Since $ 4 \\leq 6 $, we use the first piece: $ f(x) = x - 4 $.\n",
    "- This is a polynomial, so it's continuous everywhere.\n",
    "- **Conclusion:** Continuous at $ x = 4 $.\n",
    "\n",
    "**At $ x = 6 $:**\n",
    "1.  **Left-hand limit ($x \\to 6^-$):**\n",
    "    $$\n",
    "    \\lim_{x \\to 6^-} f(x) = \\lim_{x \\to 6^-} (x - 4) = 6 - 4 = 2\n",
    "    $$\n",
    "2.  **Right-hand limit ($x \\to 6^+$):**\n",
    "    $$\n",
    "    \\lim_{x \\to 6^+} f(x) = \\lim_{x \\to 6^+} (I - x) = I - 6\n",
    "    $$\n",
    "    *(Assuming $I$ is a constant)*\n",
    "3.  **Function value:**\n",
    "    $$\n",
    "    f(6) = 6 - 4 = 2 \\quad \\text{(since $x \\leq 6$)}\n",
    "    $$\n",
    "4.  **Check for continuity:**\n",
    "    - For continuity, we need $ \\lim_{x \\to 6^-} f(x) = \\lim_{x \\to 6^+} f(x) = f(6) $.\n",
    "    - This requires $ 2 = I - 6 = 2 $, which is only true if $ I = 8 $.\n",
    "    - Since the value of $I$ is not specified to be 8, the right-hand limit ($I-6$) is generally not equal to 2.\n",
    "- **Conclusion:** Discontinuous at $ x = 6 $ (unless $I=8$).\n",
    "\n",
    "**Final Answer:**\n",
    "\n",
    "(a) Continuous  \n",
    "(b) Discontinuous (unless $I = 8$)"
   ]
  }
 ],
 "metadata": {
  "kernelspec": {
   "display_name": "Python 3 (ipykernel)",
   "language": "python",
   "name": "python3"
  },
  "language_info": {
   "codemirror_mode": {
    "name": "ipython",
    "version": 3
   },
   "file_extension": ".py",
   "mimetype": "text/x-python",
   "name": "python",
   "nbconvert_exporter": "python",
   "pygments_lexer": "ipython3",
   "version": "3.12.6"
  }
 },
 "nbformat": 4,
 "nbformat_minor": 5
}
