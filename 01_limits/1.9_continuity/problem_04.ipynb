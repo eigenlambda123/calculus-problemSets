{
 "cells": [
  {
   "cell_type": "markdown",
   "id": "f2045b8e-2ca4-434f-9d5f-5ab27a70f606",
   "metadata": {},
   "source": [
    "### **Problems**\n",
    "\n",
    "Using only Properties 1- 9 from the Limit Properties section, one-sided limit properties (if needed) and the definition of continuity determine if the following function is continuous or discontinuous at (a) $z = -2$, (b) $z = 0$, (c) $z = 5$?\n",
    "\n",
    "$$\n",
    "g(z) = \\frac{6}{z^{2}-3z-10}\n",
    "$$"
   ]
  },
  {
   "cell_type": "markdown",
   "id": "ecc18c10-8e97-49da-9415-1a64256a2a08",
   "metadata": {},
   "source": [
    "---\n",
    "\n",
    "### **Solutions**\n",
    "\n",
    "\n",
    "A function $g(z)$ is continuous at $z=a$ if $\\lim_{z \\to a} g(z) = g(a)$.\n",
    "\n",
    "**(a) At $z = -2$:**\n",
    "- The denominator is $ z^{2}-3z-10 = (z-5)(z+2) $.\n",
    "- At $z = -2$, the denominator is zero, so $g(-2)$ is **undefined**.\n",
    "- Therefore, the function is **discontinuous** at $z=-2$.\n",
    "\n",
    "**(b) At $z = 0$:**\n",
    "1. **Find the limit:**\n",
    "$$\n",
    "\\lim_{z \\to 0} g(z) = \\lim_{z \\to 0} \\frac{6}{z^{2}-3z-10} = \\frac{6}{(0)^2 - 3(0) - 10} = -\\frac{3}{5}\n",
    "$$\n",
    "2. **Find $g(0)$:**\n",
    "$$\n",
    "g(0) = \\frac{6}{-10} = -\\frac{3}{5}\n",
    "$$\n",
    "Since $\\lim_{z \\to 0} g(z) = g(0)$, the function is **continuous** at $z=0$.\n",
    "\n",
    "**(c) At $z = 5$:**\n",
    "- The denominator is $ z^{2}-3z-10 = (z-5)(z+2) $.\n",
    "- At $z = 5$, the denominator is zero, so $g(5)$ is **undefined**.\n",
    "- Therefore, the function is **discontinuous** at $z=5$.\n",
    "\n",
    "**Final Answer:**\n",
    "    \n",
    "(a) Discontinuous  \n",
    "(b) Continuous  \n",
    "(c) Discontinuous"
   ]
  }
 ],
 "metadata": {
  "kernelspec": {
   "display_name": "Python 3 (ipykernel)",
   "language": "python",
   "name": "python3"
  },
  "language_info": {
   "codemirror_mode": {
    "name": "ipython",
    "version": 3
   },
   "file_extension": ".py",
   "mimetype": "text/x-python",
   "name": "python",
   "nbconvert_exporter": "python",
   "pygments_lexer": "ipython3",
   "version": "3.12.6"
  }
 },
 "nbformat": 4,
 "nbformat_minor": 5
}
