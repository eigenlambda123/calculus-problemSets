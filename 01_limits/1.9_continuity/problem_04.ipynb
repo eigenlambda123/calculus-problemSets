{
 "cells": [
  {
   "cell_type": "markdown",
   "id": "f2045b8e-2ca4-434f-9d5f-5ab27a70f606",
   "metadata": {},
   "source": [
    "### **Problems**\n",
    "\n",
    "Using only Properties 1- 9 from the Limit Properties section, one-sided limit properties (if needed) and the definition of continuity determine if the following function is continuous or discontinuous at (a) $z = -2$, (b) $z = 0$, (c) $z = 5$?\n",
    "\n",
    "$$\n",
    "g(z) = 3 - 3z\n",
    "$$"
   ]
  },
  {
   "cell_type": "code",
   "execution_count": null,
   "id": "b0e94c51-b50f-48a8-abf9-b03345c48d31",
   "metadata": {},
   "outputs": [],
   "source": []
  }
 ],
 "metadata": {
  "kernelspec": {
   "display_name": "Python 3 (ipykernel)",
   "language": "python",
   "name": "python3"
  },
  "language_info": {
   "codemirror_mode": {
    "name": "ipython",
    "version": 3
   },
   "file_extension": ".py",
   "mimetype": "text/x-python",
   "name": "python",
   "nbconvert_exporter": "python",
   "pygments_lexer": "ipython3",
   "version": "3.12.6"
  }
 },
 "nbformat": 4,
 "nbformat_minor": 5
}
