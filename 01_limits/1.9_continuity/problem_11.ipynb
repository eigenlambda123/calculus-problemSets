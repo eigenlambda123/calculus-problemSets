{
 "cells": [
  {
   "cell_type": "markdown",
   "id": "5b136a8f-7f3c-44fc-9782-5a9c63da8bad",
   "metadata": {},
   "source": [
    "### **Problem**\n",
    "\n",
    "Determine where the following function is discontinuous.\n",
    "\n",
    "$$\n",
    "h(x) = \\frac{x}{7-e^{2x+3}}\n",
    "$$"
   ]
  },
  {
   "cell_type": "code",
   "execution_count": null,
   "id": "e4615d78-9088-47de-ab90-97ea4749e764",
   "metadata": {},
   "outputs": [],
   "source": []
  }
 ],
 "metadata": {
  "kernelspec": {
   "display_name": "Python 3 (ipykernel)",
   "language": "python",
   "name": "python3"
  },
  "language_info": {
   "codemirror_mode": {
    "name": "ipython",
    "version": 3
   },
   "file_extension": ".py",
   "mimetype": "text/x-python",
   "name": "python",
   "nbconvert_exporter": "python",
   "pygments_lexer": "ipython3",
   "version": "3.12.6"
  }
 },
 "nbformat": 4,
 "nbformat_minor": 5
}
