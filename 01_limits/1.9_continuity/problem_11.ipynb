{
 "cells": [
  {
   "cell_type": "markdown",
   "id": "5b136a8f-7f3c-44fc-9782-5a9c63da8bad",
   "metadata": {},
   "source": [
    "### **Problem**\n",
    "\n",
    "Determine where the following function is discontinuous.\n",
    "\n",
    "$$\n",
    "h(x) = \\frac{x}{7-e^{2x+3}}\n",
    "$$"
   ]
  },
  {
   "cell_type": "markdown",
   "id": "a9339760-cf1c-4872-8129-0284f6c20d71",
   "metadata": {},
   "source": [
    "---\n",
    "\n",
    "### **Solution**\n",
    "\n",
    "A rational function is discontinuous where its denominator is zero.\n",
    "\n",
    "**Find where the denominator is zero:**\n",
    "Set the denominator equal to zero:\n",
    "$$7 - e^{2x+3} = 0$$\n",
    "\n",
    "Solve for the exponential term:\n",
    "$$e^{2x+3} = 7$$\n",
    "\n",
    "**Solve for $x$:**\n",
    "Take the natural logarithm of both sides:\n",
    "$$2x + 3 = \\ln(7)$$\n",
    "$$2x = \\ln(7) - 3$$\n",
    "$$x = \\frac{\\ln(7) - 3}{2}$$\n",
    "\n",
    "**Conclusion:**\n",
    "The function $h(x)$ is discontinuous at $x = \\frac{\\ln(7) - 3}{2}$."
   ]
  }
 ],
 "metadata": {
  "kernelspec": {
   "display_name": "Python 3 (ipykernel)",
   "language": "python",
   "name": "python3"
  },
  "language_info": {
   "codemirror_mode": {
    "name": "ipython",
    "version": 3
   },
   "file_extension": ".py",
   "mimetype": "text/x-python",
   "name": "python",
   "nbconvert_exporter": "python",
   "pygments_lexer": "ipython3",
   "version": "3.12.6"
  }
 },
 "nbformat": 4,
 "nbformat_minor": 5
}
