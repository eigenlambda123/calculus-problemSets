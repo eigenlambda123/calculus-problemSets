{
 "cells": [
  {
   "cell_type": "markdown",
   "id": "d9675773-5f18-4bf5-82f0-5697f7f7906b",
   "metadata": {},
   "source": [
    "### **Problems**\n",
    "\n",
    "Using only Properties 1- 9 from the Limit Properties section, one-sided limit properties (if needed) and the definition of continuity determine if the following function is continuous or discontinuous at (a) $t = -2$, (b) $t = 10$?\n",
    "\n",
    "$$\n",
    "h(t) = \\begin{cases}\n",
    "t^2 & \\text{if } t < -2 \\\\\n",
    "t + 6 & \\text{if } t \\ge -2\n",
    "\\end{cases}\n",
    "$$"
   ]
  },
  {
   "cell_type": "markdown",
   "id": "dbcf471a-5880-4f6c-92a4-ca264ae80cc7",
   "metadata": {},
   "source": [
    "---\n",
    "\n",
    "### **Solutions**\n",
    "\n",
    "A piecewise function is continuous at a point if the limit from the left equals the limit from the right and both equal the function value at that point.\n",
    "\n",
    "**(a) At $ t = -2 $:**\n",
    "1.  **Left-hand limit ($t \\to -2^-$):**\n",
    "    $$\n",
    "    \\lim_{t \\to -2^-} h(t) = \\lim_{t \\to -2^-} t^2 = (-2)^2 = 4\n",
    "    $$\n",
    "2.  **Right-hand limit ($t \\to -2^+$):**\n",
    "    $$\n",
    "    \\lim_{t \\to -2^+} h(t) = \\lim_{t \\to -2^+} (t + 6) = -2 + 6 = 4\n",
    "    $$\n",
    "3.  **Function value:**\n",
    "    $$\n",
    "    h(-2) = -2 + 6 = 4 \\quad \\text{(since $t \\ge -2$)}\n",
    "    $$\n",
    "4.  **Check for continuity:**\n",
    "    - Since $ \\lim_{t \\to -2^-} h(t) = \\lim_{t \\to -2^+} h(t) = h(-2) = 4 $.\n",
    "- **Conclusion:** Continuous at $ t = -2 $.\n",
    "\n",
    "**(b) At $ t = 10 $:**\n",
    "- Since $ 10 \\ge -2 $, we use the second piece: $ h(t) = t + 6 $.\n",
    "- This is a polynomial, so it's continuous everywhere on its domain.\n",
    "- **Conclusion:** Continuous at $ t = 10 $.\n",
    "\n",
    "**Final Answer:**\n",
    "\n",
    "(a) Continuous  \n",
    "(b) Continuous"
   ]
  }
 ],
 "metadata": {
  "kernelspec": {
   "display_name": "Python 3 (ipykernel)",
   "language": "python",
   "name": "python3"
  },
  "language_info": {
   "codemirror_mode": {
    "name": "ipython",
    "version": 3
   },
   "file_extension": ".py",
   "mimetype": "text/x-python",
   "name": "python",
   "nbconvert_exporter": "python",
   "pygments_lexer": "ipython3",
   "version": "3.12.6"
  }
 },
 "nbformat": 4,
 "nbformat_minor": 5
}
