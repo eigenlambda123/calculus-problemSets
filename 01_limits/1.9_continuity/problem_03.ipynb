{
 "cells": [
  {
   "cell_type": "markdown",
   "id": "d15e6440-e1b6-436d-bad9-5a9d1c57dec7",
   "metadata": {},
   "source": [
    "### **Problems**\n",
    "\n",
    "Using only Properties 1- 9 from the Limit Properties section, one-sided limit properties (if needed) and the definition of continuity determine if the following function is continuous or discontinuous at (a) $x = -1$, (b) $x = 0$, (c) $x = 3$?\n",
    "\n",
    "$$\n",
    "f(x) = \\frac{4x+5}{9-3x}\n",
    "$$"
   ]
  },
  {
   "cell_type": "markdown",
   "id": "3c386d26-f574-4ea1-ae1f-656ac47e9c94",
   "metadata": {},
   "source": [
    "---\n",
    "\n",
    "### **Solutions**\n",
    "\n",
    "A function $f(x)$ is continuous at $x=a$ if $\\lim_{x \\to a} f(x) = f(a)$.\n",
    "\n",
    "**(a) At $x = -1$:**\n",
    "1. **Find the limit:**\n",
    "$$\n",
    "\\lim_{x \\to -1} f(x) = \\lim_{x \\to -1} \\frac{4x+5}{9-3x} = \\frac{\\lim_{x \\to -1}(4x+5)}{\\lim_{x \\to -1}(9-3x)} = \\frac{4(-1)+5}{9-3(-1)} = \\frac{1}{12}\n",
    "$$\n",
    "2. **Find $f(-1)$:**\n",
    "$$\n",
    "f(-1) = \\frac{4(-1)+5}{9-3(-1)} = \\frac{1}{12}\n",
    "$$\n",
    "Since $\\lim_{x \\to -1} f(x) = f(-1)$, the function is **continuous** at $x=-1$.\n",
    "\n",
    "**(b) At $x = 0$:**\n",
    "1. **Find the limit:**\n",
    "$$\n",
    "\\lim_{x \\to 0} f(x) = \\lim_{x \\to 0} \\frac{4x+5}{9-3x} = \\frac{5}{9}\n",
    "$$\n",
    "2. **Find $f(0)$:**\n",
    "$$\n",
    "f(0) = \\frac{5}{9}\n",
    "$$\n",
    "Since $\\lim_{x \\to 0} f(x) = f(0)$, the function is **continuous** at $x=0$.\n",
    "\n",
    "**(c) At $x = 3$:**\n",
    "- The denominator $9-3x = 0$ when $x=3$, so $f(3)$ is **undefined**.\n",
    "- Therefore, the function is **discontinuous** at $x=3$.\n"
   ]
  },
  {
   "cell_type": "code",
   "execution_count": null,
   "id": "4ea5baf8-217e-424a-93fd-6c2fbb134364",
   "metadata": {},
   "outputs": [],
   "source": []
  }
 ],
 "metadata": {
  "kernelspec": {
   "display_name": "Python 3 (ipykernel)",
   "language": "python",
   "name": "python3"
  },
  "language_info": {
   "codemirror_mode": {
    "name": "ipython",
    "version": 3
   },
   "file_extension": ".py",
   "mimetype": "text/x-python",
   "name": "python",
   "nbconvert_exporter": "python",
   "pygments_lexer": "ipython3",
   "version": "3.12.6"
  }
 },
 "nbformat": 4,
 "nbformat_minor": 5
}
