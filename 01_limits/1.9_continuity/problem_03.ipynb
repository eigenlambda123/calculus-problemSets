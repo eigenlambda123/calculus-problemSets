{
 "cells": [
  {
   "cell_type": "markdown",
   "id": "d15e6440-e1b6-436d-bad9-5a9d1c57dec7",
   "metadata": {},
   "source": [
    "### **Problem**\n",
    "\n",
    "Using only Properties 1- 9 from the Limit Properties section, one-sided limit properties (if needed) and the definition of continuity determine if the following function is continuous or discontinuous at (a) $z = -1$, (b) $z = 0$, (c) $z = 3$?\n",
    "\n",
    "$$\n",
    "ry - 248\n",
    "$$"
   ]
  },
  {
   "cell_type": "code",
   "execution_count": null,
   "id": "fff49d03-f74e-4ae8-979e-9b75c6a02e40",
   "metadata": {},
   "outputs": [],
   "source": []
  }
 ],
 "metadata": {
  "kernelspec": {
   "display_name": "Python 3 (ipykernel)",
   "language": "python",
   "name": "python3"
  },
  "language_info": {
   "codemirror_mode": {
    "name": "ipython",
    "version": 3
   },
   "file_extension": ".py",
   "mimetype": "text/x-python",
   "name": "python",
   "nbconvert_exporter": "python",
   "pygments_lexer": "ipython3",
   "version": "3.12.6"
  }
 },
 "nbformat": 4,
 "nbformat_minor": 5
}
