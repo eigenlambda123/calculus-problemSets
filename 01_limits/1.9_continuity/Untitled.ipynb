{
 "cells": [
  {
   "cell_type": "markdown",
   "id": "b80020cc-6d89-442e-a99d-ce14c9837543",
   "metadata": {},
   "source": [
    "### **Problem 12**\n",
    "\n",
    "12\\. Determine where the following function is discontinuous.\n",
    "\n",
    "$$\n",
    "g(x) = \\tan(2x)\n",
    "$$"
   ]
  },
  {
   "cell_type": "code",
   "execution_count": null,
   "id": "9a75c18c-1b4e-4d78-aa12-9ac78793d096",
   "metadata": {},
   "outputs": [],
   "source": []
  }
 ],
 "metadata": {
  "kernelspec": {
   "display_name": "Python 3 (ipykernel)",
   "language": "python",
   "name": "python3"
  },
  "language_info": {
   "codemirror_mode": {
    "name": "ipython",
    "version": 3
   },
   "file_extension": ".py",
   "mimetype": "text/x-python",
   "name": "python",
   "nbconvert_exporter": "python",
   "pygments_lexer": "ipython3",
   "version": "3.12.6"
  }
 },
 "nbformat": 4,
 "nbformat_minor": 5
}
