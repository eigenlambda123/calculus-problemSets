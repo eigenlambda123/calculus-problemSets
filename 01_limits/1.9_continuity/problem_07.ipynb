{
 "cells": [
  {
   "cell_type": "markdown",
   "id": "4c39ade8-0a8a-4b2d-8813-2dfe246325dc",
   "metadata": {},
   "source": [
    "### **Problems**\n",
    "\n",
    "Using only Properties 1-9 from the Limit Properties section, one-sided limit properties (if needed) and the definition of continuity determine if the following function is continuous or discontinuous at (a) $x = -6$, (b) $x = 1$?\n",
    "\n",
    "$$\n",
    "g(x) =\n",
    "\\begin{cases}\n",
    "1 - 3x & x < -6 \\\\\n",
    "7 & x = -6 \\\\\n",
    "x^3 & -6 < x < 1 \\\\\n",
    "1 & x = 1 \\\\\n",
    "2 - x & x > 1\n",
    "\\end{cases}\n",
    "$$"
   ]
  },
  {
   "cell_type": "markdown",
   "id": "b952dac5-8c72-4b2c-a8a6-72081505ce7d",
   "metadata": {},
   "source": [
    "---\n",
    "\n",
    "### **Solutions**\n",
    "\n",
    "**(a) At $ x = -6 $:**\n",
    "1.  **Left-hand limit ($x \\to -6^-$):**\n",
    "    $$\n",
    "    \\lim_{x \\to -6^-} g(x) = \\lim_{x \\to -6^-} (1 - 3x) = 1 - 3(-6) = 1 + 18 = 19\n",
    "    $$\n",
    "2.  **Right-hand limit ($x \\to -6^+$):**\n",
    "    $$\n",
    "    \\lim_{x \\to -6^+} g(x) = \\lim_{x \\to -6^+} x^3 = (-6)^3 = -216\n",
    "    $$\n",
    "3.  **Function value:**\n",
    "    $$\n",
    "    g(-6) = 7\n",
    "    $$\n",
    "4.  **Check for continuity:**\n",
    "    - The left-hand limit (19), right-hand limit (-216), and function value (7) are all different.\n",
    "    - Since $ \\lim_{x \\to -6^-} g(x) \\neq \\lim_{x \\to -6^+} g(x) $, the overall limit does not exist.\n",
    "- **Conclusion:** Discontinuous at $ x = -6 $.\n",
    "\n",
    "**(b) At $ x = 1 $:**\n",
    "1.  **Left-hand limit ($x \\to 1^-$):**\n",
    "    $$\n",
    "    \\lim_{x \\to 1^-} g(x) = \\lim_{x \\to 1^-} x^3 = (1)^3 = 1\n",
    "    $$\n",
    "2.  **Right-hand limit ($x \\to 1^+$):**\n",
    "    $$\n",
    "    \\lim_{x \\to 1^+} g(x) = \\lim_{x \\to 1^+} (2 - x) = 2 - 1 = 1\n",
    "    $$\n",
    "3.  **Function value:**\n",
    "    $$\n",
    "    g(1) = 1\n",
    "    $$\n",
    "4.  **Check for continuity:**\n",
    "    - Since $ \\lim_{x \\to 1^-} g(x) = \\lim_{x \\to 1^+} g(x) = g(1) = 1 $.\n",
    "- **Conclusion:** Continuous at $ x = 1 $.\n",
    "\n",
    "**Final Answer:**\n",
    "    \n",
    "(a) Discontinuous  \n",
    "(b) Continuous"
   ]
  },
  {
   "cell_type": "code",
   "execution_count": null,
   "id": "9443ded5-c9fe-4c0a-912f-e1e19d85abf6",
   "metadata": {},
   "outputs": [],
   "source": []
  }
 ],
 "metadata": {
  "kernelspec": {
   "display_name": "Python 3 (ipykernel)",
   "language": "python",
   "name": "python3"
  },
  "language_info": {
   "codemirror_mode": {
    "name": "ipython",
    "version": 3
   },
   "file_extension": ".py",
   "mimetype": "text/x-python",
   "name": "python",
   "nbconvert_exporter": "python",
   "pygments_lexer": "ipython3",
   "version": "3.12.6"
  }
 },
 "nbformat": 4,
 "nbformat_minor": 5
}
