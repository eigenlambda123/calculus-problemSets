{
 "cells": [
  {
   "cell_type": "markdown",
   "id": "4c39ade8-0a8a-4b2d-8813-2dfe246325dc",
   "metadata": {},
   "source": [
    "### **Problem**\n",
    "\n",
    "Using only Properties 1-9 from the Limit Properties section, one-sided limit properties (if needed) and the definition of continuity determine if the following function is continuous or discontinuous at (a) $x = -6$, (b) $x = 1$?\n",
    "\n",
    "$$\n",
    "g(x) =\n",
    "\\begin{cases}\n",
    "1 - 3x & x < -6 \\\\\n",
    "7 & x = -6 \\\\\n",
    "x^3 & -6 < x < 1 \\\\\n",
    "1 & x = 1 \\\\\n",
    "2 - x & x > 1\n",
    "\\end{cases}\n",
    "$$"
   ]
  },
  {
   "cell_type": "code",
   "execution_count": null,
   "id": "2339ce02-9b01-4679-ae3d-c86eeb400ee3",
   "metadata": {},
   "outputs": [],
   "source": []
  }
 ],
 "metadata": {
  "kernelspec": {
   "display_name": "Python 3 (ipykernel)",
   "language": "python",
   "name": "python3"
  },
  "language_info": {
   "codemirror_mode": {
    "name": "ipython",
    "version": 3
   },
   "file_extension": ".py",
   "mimetype": "text/x-python",
   "name": "python",
   "nbconvert_exporter": "python",
   "pygments_lexer": "ipython3",
   "version": "3.12.6"
  }
 },
 "nbformat": 4,
 "nbformat_minor": 5
}
