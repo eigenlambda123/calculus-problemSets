{
 "cells": [
  {
   "cell_type": "markdown",
   "id": "b80020cc-6d89-442e-a99d-ce14c9837543",
   "metadata": {},
   "source": [
    "### **Problem**\n",
    "\n",
    "Determine where the following function is discontinuous.\n",
    "\n",
    "$$\n",
    "g(x) = \\tan(2x)\n",
    "$$"
   ]
  },
  {
   "cell_type": "markdown",
   "id": "8e0c6000-1b40-4875-8a36-b9dd344ec747",
   "metadata": {},
   "source": [
    "---\n",
    "\n",
    "### **Solution**\n",
    "\n",
    "The tangent function can be written as:\n",
    "$$\n",
    "\\tan(2x) = \\frac{\\sin(2x)}{\\cos(2x)}\n",
    "$$\n",
    "It is discontinuous where the denominator, $\\cos(2x)$, is zero.\n",
    "\n",
    "**Find where the denominator is zero:**\n",
    "Set the denominator equal to zero:\n",
    "$$\\cos(2x) = 0$$\n",
    "\n",
    "**Solve for $2x$:**\n",
    "We know that $\\cos(\\theta) = 0$ when:\n",
    "$$\\theta = \\frac{\\pi}{2} + \\pi n \\quad \\text{for any integer } n$$\n",
    "\n",
    "So for $2x$:\n",
    "$$2x = \\frac{\\pi}{2} + \\pi n$$\n",
    "\n",
    "**Solve for $x$:**\n",
    "Divide by 2:\n",
    "$$x = \\frac{\\pi}{4} + \\frac{\\pi n}{2}$$\n",
    "\n",
    "**Conclusion:**\n",
    "The function $g(x)$ is discontinuous at all values of $x$ of the form:\n",
    "$$x = \\frac{\\pi}{4} + \\frac{\\pi n}{2}$$\n",
    "for any integer $n$."
   ]
  }
 ],
 "metadata": {
  "kernelspec": {
   "display_name": "Python 3 (ipykernel)",
   "language": "python",
   "name": "python3"
  },
  "language_info": {
   "codemirror_mode": {
    "name": "ipython",
    "version": 3
   },
   "file_extension": ".py",
   "mimetype": "text/x-python",
   "name": "python",
   "nbconvert_exporter": "python",
   "pygments_lexer": "ipython3",
   "version": "3.12.6"
  }
 },
 "nbformat": 4,
 "nbformat_minor": 5
}
