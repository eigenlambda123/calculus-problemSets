{
 "cells": [
  {
   "cell_type": "markdown",
   "id": "d18c7d27-c24a-48ab-a38f-2ba35fbde6a5",
   "metadata": {},
   "source": [
    "### **Problems**\n",
    "\n",
    "$2. \\text{For } h(t) = \\sqrt[3]{t} + 12t - 2t^2 \\text{ evaluate each of the following limits.}$\n",
    "\n",
    "(a) $\\lim_{t \\to -\\infty} h(t)$  \n",
    "(b) $\\lim_{t \\to \\infty} h(t)$\n"
   ]
  },
  {
   "cell_type": "markdown",
   "id": "2e7f143a-60c5-49b8-9c04-f70d2e00ed6f",
   "metadata": {},
   "source": [
    "\n",
    "---\n",
    "### **Solutions**\n",
    "\n",
    "First, rewrite the function using exponents:\n",
    "$$ h(t) = t^{1/3} + 12t - 2t^2 $$\n",
    "\n",
    "For limits at infinity, we factor out the term with the highest power. Here, the highest power is $$ t^2 $$(a) $\\lim_{t \\to -\\infty} \\sqrt[3]{t} + 12t - 2t^2$  \n",
    "\n",
    "$$\n",
    "\\begin{aligned}\n",
    "\\lim_{t \\to -\\infty} h(t) &= \\lim_{t \\to -\\infty} \\left( t^{1/3} + 12t - 2t^2 \\right) \\\\\n",
    "&= \\lim_{t \\to -\\infty} \\left[ t^2 \\left( \\frac{t^{1/3}}{t^2} + \\frac{12t}{t^2} - 2 \\right) \\right] \\\\\n",
    "&= \\lim_{t \\to -\\infty} \\left[ t^2 \\left( t^{-5/3} + 12t^{-1} - 2 \\right) \\right] \\\\\n",
    "&= \\left( \\lim_{t \\to -\\infty} t^2 \\right) \\cdot \\left( \\lim_{t \\to -\\infty} \\left( t^{-5/3} + 12t^{-1} - 2 \\right) \\right) \\\\\n",
    "&= (+\\infty) \\cdot (0 + 0 - 2) \\\\\n",
    "&= (+\\infty) \\cdot (-2) \\\\\n",
    "&= \\boxed{-\\infty}\n",
    "\\end{aligned}\n",
    "$$\n",
    "\n",
    "(b) (a) $\\lim_{t \\to \\infty} \\sqrt[3]{t} + 12t - 2t^2$  \n",
    "\n",
    "$$\n",
    "\\begin{aligned}\n",
    "\\lim_{t \\to \\infty} h(t) &= \\lim_{t \\to \\infty} \\left( t^{1/3} + 12t - 2t^2 \\right) \\\\\n",
    "&= \\lim_{t \\to \\infty} \\left[ t^2 \\left( \\frac{t^{1/3}}{t^2} + \\frac{12t}{t^2} - 2 \\right) \\right] \\\\\n",
    "&= \\lim_{t \\to \\infty} \\left[ t^2 \\left( t^{-5/3} + 12t^{-1} - 2 \\right) \\right] \\\\\n",
    "&= \\left( \\lim_{t \\to \\infty} t^2 \\right) \\cdot \\left( \\lim_{t \\to \\infty} \\left( t^{-5/3} + 12t^{-1} - 2 \\right) \\right) \\\\\n",
    "&= (+\\infty) \\cdot (0 + 0 - 2) \\\\\n",
    "&= (+\\infty) \\cdot (-2) \\\\\n",
    "&= \\boxed{-\\infty}\n",
    "\\end{aligned}\n",
    "$$\n"
   ]
  }
 ],
 "metadata": {
  "kernelspec": {
   "display_name": "Python 3 (ipykernel)",
   "language": "python",
   "name": "python3"
  },
  "language_info": {
   "codemirror_mode": {
    "name": "ipython",
    "version": 3
   },
   "file_extension": ".py",
   "mimetype": "text/x-python",
   "name": "python",
   "nbconvert_exporter": "python",
   "pygments_lexer": "ipython3",
   "version": "3.12.6"
  }
 },
 "nbformat": 4,
 "nbformat_minor": 5
}
