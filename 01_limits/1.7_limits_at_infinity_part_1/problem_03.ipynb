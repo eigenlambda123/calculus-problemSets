{
 "cells": [
  {
   "cell_type": "markdown",
   "id": "74187245-5491-4759-9e19-6ba5bc601528",
   "metadata": {},
   "source": [
    "### **Problems**\n",
    "\n",
    "**(a)** Evaluate $\\lim_{x\\to-\\infty} f(x)$ \n",
    "**(b)** Evaluate $\\lim_{x\\to\\infty} f(x)$ \n",
    "**(c)** Write down the equations of horizontal asymptotes for the function.\n",
    "\n",
    "$$f(x) = \\frac{8-4x^{2}}{9x^{2}+5x}$$\n"
   ]
  },
  {
   "cell_type": "markdown",
   "id": "61661531-859c-4e1f-adc6-4cc26640414f",
   "metadata": {},
   "source": [
    "\n",
    "---\n",
    "\n",
    "### **Solutions**\n",
    "\n",
    "We compute the limits by dividing numerator and denominator by $x^2$ (the highest power).\n",
    "\n",
    "$$\n",
    "f(x)=\\frac{8-4x^{2}}{9x^{2}+5x}\n",
    "= \\frac{\\tfrac{8}{x^{2}}-4}{9+\\tfrac{5}{x}}.\n",
    "$$\n",
    "\n",
    "**(a)** $\\displaystyle \\lim_{x\\to -\\infty} f(x)$  \n",
    "\n",
    "As $x\\to -\\infty$ we have $\\tfrac{8}{x^{2}}\\to 0$ and $\\tfrac{5}{x}\\to 0$. Hence\n",
    "\n",
    "$$\n",
    "\\lim_{x\\to -\\infty} f(x)\n",
    "= \\frac{0-4}{9+0}\n",
    "= \\boxed{-\\frac{4}{9}}\n",
    "$$\n",
    "\n",
    "**(b)** $\\displaystyle \\lim_{x\\to \\infty} f(x)$  \n",
    "\n",
    "The same vanishing terms occur as $x\\to\\infty$, so\n",
    "\n",
    "$$\n",
    "\\lim_{x\\to \\infty} f(x)\n",
    "= \\frac{0-4}{9+0}\n",
    "= \\boxed{-\\frac{4}{9}}\n",
    "$$\n",
    "\n",
    "**(c) Horizontal asymptotes**  \n",
    "\n",
    "Since both one-sided limits at infinity equal $-\\tfrac{4}{9}$, the graph has the horizontal asymptote\n",
    "\n",
    "$$\n",
    "\\boxed{y=-\\frac{4}{9}}\n",
    "$$"
   ]
  }
 ],
 "metadata": {
  "kernelspec": {
   "display_name": "Python 3 (ipykernel)",
   "language": "python",
   "name": "python3"
  },
  "language_info": {
   "codemirror_mode": {
    "name": "ipython",
    "version": 3
   },
   "file_extension": ".py",
   "mimetype": "text/x-python",
   "name": "python",
   "nbconvert_exporter": "python",
   "pygments_lexer": "ipython3",
   "version": "3.12.6"
  }
 },
 "nbformat": 4,
 "nbformat_minor": 5
}
