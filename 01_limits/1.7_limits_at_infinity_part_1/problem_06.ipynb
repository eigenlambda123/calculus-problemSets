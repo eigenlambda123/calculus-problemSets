{
 "cells": [
  {
   "cell_type": "markdown",
   "id": "e4dcc4f6-27ab-4db8-af38-c4bc5a161a8a",
   "metadata": {},
   "source": [
    "### **Problems**\n",
    "\n",
    "**(a)** Evaluate $\\lim_{x\\to-\\infty} f(x)$ \n",
    "\n",
    "**(b)** Evaluate $\\lim_{x\\to\\infty} f(x)$ \n",
    "\n",
    "**(c)** Write down the equations of horizontal asymptotes for the function.\n",
    "\n",
    "$$f(x) = \\frac{x^{3}-2x+11}{3-6x^{5}}$$\n"
   ]
  },
  {
   "cell_type": "markdown",
   "id": "75a38785-1793-4748-af3f-da6cb7cba022",
   "metadata": {},
   "source": [
    "---\n",
    "\n",
    "### **Solutions**\n",
    "\n",
    "**(a)** $\\lim_{x\\to-\\infty} f(x)$\n",
    "$$\n",
    "\\lim_{x\\to -\\infty} \\frac{x^{3}-2x+11}{3-6x^{5}}\n",
    "= \\lim_{x\\to -\\infty} \\frac{x^{5}\\left(\\tfrac{1}{x^{2}}-\\tfrac{2}{x^{4}}+\\tfrac{11}{x^{5}}\\right)}{x^{5}\\left(\\tfrac{3}{x^{5}}-6\\right)}\n",
    "= \\lim_{x\\to -\\infty} \\frac{\\tfrac{1}{x^{2}}-\\tfrac{2}{x^{4}}+\\tfrac{11}{x^{5}}}{\\tfrac{3}{x^{5}}-6}.\n",
    "$$\n",
    "\n",
    "As $x\\to -\\infty$, the terms with $\\tfrac{1}{x^2}, \\tfrac{1}{x^4}, \\tfrac{1}{x^5}$ vanish, so\n",
    "\n",
    "$$\n",
    "\\lim_{x\\to -\\infty} f(x) = \\frac{0}{-6} = \\boxed{0}\n",
    "$$\n",
    "\n",
    "\n",
    "**(b)** $\\lim_{x\\to\\infty} f(x)$\n",
    "$$\n",
    "\\lim_{x\\to \\infty} \\frac{x^{3}-2x+11}{3-6x^{5}}\n",
    "= \\lim_{x\\to \\infty} \\frac{x^{5}\\left(\\tfrac{1}{x^{2}}-\\tfrac{2}{x^{4}}+\\tfrac{11}{x^{5}}\\right)}{x^{5}\\left(\\tfrac{3}{x^{5}}-6\\right)}\n",
    "= \\lim_{x\\to \\infty} \\frac{\\tfrac{1}{x^{2}}-\\tfrac{2}{x^{4}}+\\tfrac{11}{x^{5}}}{\\tfrac{3}{x^{5}}-6}.\n",
    "$$\n",
    "\n",
    "As $x\\to \\infty$, the terms with $\\tfrac{1}{x^2}, \\tfrac{1}{x^4}, \\tfrac{1}{x^5}$ vanish, so\n",
    "\n",
    "$$\n",
    "\\lim_{x\\to \\infty} f(x) = \\frac{0}{-6} = \\boxed{0}\n",
    "$$\n",
    "\n",
    "\n",
    "**(c) Horizontal Asymptotes**\n",
    "\n",
    "Since both one-sided limits are $0$, the function has the horizontal asymptote\n",
    "\n",
    "$$\n",
    "\\boxed{y = 0}\n",
    "$$\n"
   ]
  }
 ],
 "metadata": {
  "kernelspec": {
   "display_name": "Python 3 (ipykernel)",
   "language": "python",
   "name": "python3"
  },
  "language_info": {
   "codemirror_mode": {
    "name": "ipython",
    "version": 3
   },
   "file_extension": ".py",
   "mimetype": "text/x-python",
   "name": "python",
   "nbconvert_exporter": "python",
   "pygments_lexer": "ipython3",
   "version": "3.12.6"
  }
 },
 "nbformat": 4,
 "nbformat_minor": 5
}
