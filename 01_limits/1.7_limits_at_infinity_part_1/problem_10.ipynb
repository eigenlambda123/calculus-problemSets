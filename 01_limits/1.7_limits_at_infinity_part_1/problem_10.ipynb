{
 "cells": [
  {
   "cell_type": "markdown",
   "id": "4d5369a9-5788-4848-8b74-67f466304034",
   "metadata": {},
   "source": [
    "### **Problems**\n",
    "\n",
    "**(a)** Evaluate $\\lim_{x\\to-\\infty} f(x)$ \n",
    "\n",
    "**(b)** Evaluate $\\lim_{x\\to\\infty} f(x)$ \n",
    "\n",
    "**(c)** Write down the equations of horizontal asymptotes for the function.\n",
    "\n",
    "$$f(x) = \\frac{x+8-4x^{2}}{\\sqrt{6+x^{2}+7x^{4}}}$$\n"
   ]
  },
  {
   "cell_type": "markdown",
   "id": "5bc45c23-2c22-4cfa-bb26-6af32698dff5",
   "metadata": {},
   "source": [
    "\n",
    "---\n",
    "\n",
    "### **Solutions**\n",
    "\n",
    "**(a)** $\\lim_{x\\to-\\infty} f(x)$ \n",
    "$$\n",
    "\\lim_{x\\to -\\infty} \\frac{x+8-4x^{2}}{\\sqrt{6+x^{2}+7x^{4}}}\n",
    "= \\lim_{x\\to -\\infty} \\frac{x^{2}\\!\\left(\\tfrac{1}{x}+\\tfrac{8}{x^{2}}-4\\right)}{\\sqrt{x^{4}\\!\\left(7+\\tfrac{1}{x^{2}}+\\tfrac{6}{x^{4}}\\right)}}\n",
    "= \\lim_{x\\to -\\infty} \\frac{x^{2}\\!\\left(\\tfrac{1}{x}+\\tfrac{8}{x^{2}}-4\\right)}{|x^{2}|\\sqrt{7+\\tfrac{1}{x^{2}}+\\tfrac{6}{x^{4}}}}.\n",
    "$$\n",
    "\n",
    "For both $x\\to -\\infty$ and $x\\to\\infty$ we have $|x^{2}|=x^{2}$ (since $x^{2}\\ge0$), so\n",
    "\n",
    "$$\n",
    "\\lim_{x\\to -\\infty} f(x)\n",
    "= \\lim_{x\\to -\\infty} \\frac{\\tfrac{1}{x}+\\tfrac{8}{x^{2}}-4}{\\sqrt{7+\\tfrac{1}{x^{2}}+\\tfrac{6}{x^{4}}}}\n",
    "= \\frac{0+0-4}{\\sqrt{7+0+0}}\n",
    "= \\boxed{-\\frac{4}{\\sqrt{7}}}\n",
    "$$\n",
    "\n",
    "\n",
    "**(b)** $\\lim_{x\\to\\infty} f(x)$ \n",
    "$$\n",
    "\\lim_{x\\to \\infty} \\frac{x+8-4x^{2}}{\\sqrt{6+x^{2}+7x^{4}}}\n",
    "= \\lim_{x\\to \\infty} \\frac{x^{2}\\!\\left(\\tfrac{1}{x}+\\tfrac{8}{x^{2}}-4\\right)}{|x^{2}|\\sqrt{7+\\tfrac{1}{x^{2}}+\\tfrac{6}{x^{4}}}}\n",
    "= \\lim_{x\\to \\infty} \\frac{\\tfrac{1}{x}+\\tfrac{8}{x^{2}}-4}{\\sqrt{7+\\tfrac{1}{x^{2}}+\\tfrac{6}{x^{4}}}}\n",
    "$$\n",
    "\n",
    "and therefore\n",
    "\n",
    "$$\n",
    "\\lim_{x\\to \\infty} f(x)\n",
    "= \\frac{0+0-4}{\\sqrt{7+0+0}}\n",
    "= \\boxed{-\\frac{4}{\\sqrt{7}}}\n",
    "$$\n",
    "\n",
    "\n",
    "**(c) Horizontal Asymptotes**\n",
    "\n",
    "Both one-sided limits equal $-\\dfrac{4}{\\sqrt{7}}$, so the function has the horizontal asymptote\n",
    "\n",
    "$$\n",
    "\\boxed{y = -\\frac{4}{\\sqrt{7}}}\n",
    "$$\n"
   ]
  }
 ],
 "metadata": {
  "kernelspec": {
   "display_name": "Python 3 (ipykernel)",
   "language": "python",
   "name": "python3"
  },
  "language_info": {
   "codemirror_mode": {
    "name": "ipython",
    "version": 3
   },
   "file_extension": ".py",
   "mimetype": "text/x-python",
   "name": "python",
   "nbconvert_exporter": "python",
   "pygments_lexer": "ipython3",
   "version": "3.12.6"
  }
 },
 "nbformat": 4,
 "nbformat_minor": 5
}
