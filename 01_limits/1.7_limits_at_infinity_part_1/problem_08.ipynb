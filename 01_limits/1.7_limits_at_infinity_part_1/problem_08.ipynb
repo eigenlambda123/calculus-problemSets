{
 "cells": [
  {
   "cell_type": "markdown",
   "id": "fa901be7-1458-4029-9ce0-f3d18aafc88e",
   "metadata": {},
   "source": [
    "### **Problems**\n",
    "\n",
    "**(a)** Evaluate $\\lim_{x\\to-\\infty} f(x)$ \n",
    "\n",
    "**(b)** Evaluate $\\lim_{x\\to\\infty} f(x)$ \n",
    "\n",
    "**(c)** Write down the equations of horizontal asymptotes for the function.\n",
    "\n",
    "$$f(x) = \\frac{\\sqrt{7+9x^{2}}}{1-2x}$$"
   ]
  },
  {
   "cell_type": "markdown",
   "id": "5ef45164-73bb-44bb-ab3e-523427626663",
   "metadata": {},
   "source": [
    "---\n",
    "\n",
    "### **Solutions**\n",
    "\n",
    "**(a)** $\\lim_{x\\to-\\infty} f(x)$ \n",
    "$$\n",
    "\\lim_{x\\to -\\infty} \\frac{\\sqrt{7+9x^{2}}}{1-2x}\n",
    "= \\lim_{x\\to -\\infty} \\frac{|x|\\sqrt{9+\\tfrac{7}{x^{2}}}}{1-2x}.\n",
    "$$\n",
    "For $x\\to -\\infty$ we have $x<0$, so $|x|=-x$. Thus\n",
    "$$\n",
    "\\lim_{x\\to -\\infty} f(x)\n",
    "= \\lim_{x\\to -\\infty} \\frac{-x\\sqrt{9+\\tfrac{7}{x^{2}}}}{1-2x}\n",
    "= \\lim_{x\\to -\\infty} \\frac{-x\\sqrt{9+\\tfrac{7}{x^{2}}}}{-x\\!\\left(2-\\tfrac{1}{x}\\right)}\n",
    "= \\lim_{x\\to -\\infty} \\frac{\\sqrt{9+\\tfrac{7}{x^{2}}}}{2-\\tfrac{1}{x}}.\n",
    "$$\n",
    "As $x\\to -\\infty$ the small terms vanish, so\n",
    "$$\n",
    "\\lim_{x\\to -\\infty} f(x) = \\frac{\\sqrt{9+0}}{2-0} = \\boxed{\\frac{3}{2}}\n",
    "$$\n",
    "\n",
    "\n",
    "**(b)** $\\lim_{x\\to\\infty} f(x)$ \n",
    "$$\n",
    "\\lim_{x\\to \\infty} \\frac{\\sqrt{7+9x^{2}}}{1-2x}\n",
    "= \\lim_{x\\to \\infty} \\frac{|x|\\sqrt{9+\\tfrac{7}{x^{2}}}}{1-2x}.\n",
    "$$\n",
    "For $x\\to \\infty$ we have $x>0$, so $|x|=x$. Thus\n",
    "$$\n",
    "\\lim_{x\\to \\infty} f(x)\n",
    "= \\lim_{x\\to \\infty} \\frac{x\\sqrt{9+\\tfrac{7}{x^{2}}}}{1-2x}\n",
    "= \\lim_{x\\to \\infty} \\frac{x\\sqrt{9+\\tfrac{7}{x^{2}}}}{x\\!\\left(\\tfrac{1}{x}-2\\right)}\n",
    "= \\lim_{x\\to \\infty} \\frac{\\sqrt{9+\\tfrac{7}{x^{2}}}}{\\tfrac{1}{x}-2}.\n",
    "$$\n",
    "As $x\\to \\infty$ the small terms vanish, so\n",
    "$$\n",
    "\\lim_{x\\to \\infty} f(x) = \\frac{\\sqrt{9+0}}{0-2} = \\boxed{-\\frac{3}{2}}\n",
    "$$\n",
    "\n",
    "\n",
    "**(c) Horizontal Asymptotes**\n",
    "\n",
    "The one-sided limits are\n",
    "$$\n",
    "\\lim_{x\\to -\\infty} f(x)=\\frac{3}{2},\\qquad\n",
    "\\lim_{x\\to \\infty} f(x)=-\\frac{3}{2},\n",
    "$$\n",
    "so the function has the horizontal asymptotes\n",
    "$$\n",
    "\\boxed{y=\\frac{3}{2}\\quad (x\\to -\\infty),\\qquad y=-\\frac{3}{2}\\quad (x\\to \\infty)}\n",
    "$$\n"
   ]
  }
 ],
 "metadata": {
  "kernelspec": {
   "display_name": "Python 3 (ipykernel)",
   "language": "python",
   "name": "python3"
  },
  "language_info": {
   "codemirror_mode": {
    "name": "ipython",
    "version": 3
   },
   "file_extension": ".py",
   "mimetype": "text/x-python",
   "name": "python",
   "nbconvert_exporter": "python",
   "pygments_lexer": "ipython3",
   "version": "3.12.6"
  }
 },
 "nbformat": 4,
 "nbformat_minor": 5
}
