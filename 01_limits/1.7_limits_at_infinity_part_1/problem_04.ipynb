{
 "cells": [
  {
   "cell_type": "markdown",
   "id": "8023e90e-53b2-4787-a7e7-97eb74429c50",
   "metadata": {},
   "source": [
    "### **Problems**\n",
    "\n",
    "**(a)** Evaluate $\\lim_{x\\to-\\infty} f(x)$ \n",
    "\n",
    "**(b)** Evaluate $\\lim_{x\\to\\infty} f(x)$ \n",
    "\n",
    "**(c)** Write down the equations of horizontal asymptotes for the function.\n",
    "\n",
    "$$f(x) = \\frac{3x^{7}-4x^{2}+1}{5-10x^{2}}$$"
   ]
  },
  {
   "cell_type": "markdown",
   "id": "3f7c5597-f6cb-4d17-bfee-9d89ce611219",
   "metadata": {},
   "source": [
    "---\n",
    "\n",
    "### **Solutions**\n",
    "\n",
    "**(a)**  $\\lim_{x\\to-\\infty} f(x)$ \n",
    "$$\n",
    "\\lim_{x\\to -\\infty} \\frac{3x^{7}-4x^{2}+1}{5-10x^{2}}\n",
    "= \\lim_{x\\to -\\infty} \\frac{x^{2}\\left(3x^{5}-4+\\tfrac{1}{x^{2}}\\right)}{x^{2}\\left(\\tfrac{5}{x^{2}}-10\\right)}\n",
    "= \\lim_{x\\to -\\infty} \\frac{3x^{5}-4+\\tfrac{1}{x^{2}}}{\\tfrac{5}{x^{2}}-10}.\n",
    "$$\n",
    "\n",
    "As $x\\to -\\infty$, the numerator $\\to -\\infty$ and denominator $\\to -10$, so\n",
    "\n",
    "$$\n",
    "\\lim_{x\\to -\\infty} f(x) = \\frac{-\\infty}{-10} = \\boxed{+\\infty}\n",
    "$$\n",
    "\n",
    "\n",
    "**(b)**  $\\lim_{x\\to\\infty} f(x)$ \n",
    "$$\n",
    "\\lim_{x\\to \\infty} \\frac{3x^{7}-4x^{2}+1}{5-10x^{2}}\n",
    "= \\lim_{x\\to \\infty} \\frac{x^{2}\\left(3x^{5}-4+\\tfrac{1}{x^{2}}\\right)}{x^{2}\\left(\\tfrac{5}{x^{2}}-10\\right)}\n",
    "= \\lim_{x\\to \\infty} \\frac{3x^{5}-4+\\tfrac{1}{x^{2}}}{\\tfrac{5}{x^{2}}-10}.\n",
    "$$\n",
    "\n",
    "As $x\\to \\infty$, the numerator $\\to \\infty$ and denominator $\\to -10$, so\n",
    "\n",
    "$$\n",
    "\\lim_{x\\to \\infty} f(x) = \\frac{\\infty}{-10} = \\boxed{-\\infty}\n",
    "$$\n",
    "\n",
    "\n",
    "**(c)  Horizontal asymptotes**\n",
    "\n",
    "Since $\\deg(\\text{numerator}) = 7$ and $\\deg(\\text{denominator}) = 2$, the degree of the numerator is larger.  \n",
    "Therefore, the function has **no horizontal asymptote**.\n"
   ]
  }
 ],
 "metadata": {
  "kernelspec": {
   "display_name": "Python 3 (ipykernel)",
   "language": "python",
   "name": "python3"
  },
  "language_info": {
   "codemirror_mode": {
    "name": "ipython",
    "version": 3
   },
   "file_extension": ".py",
   "mimetype": "text/x-python",
   "name": "python",
   "nbconvert_exporter": "python",
   "pygments_lexer": "ipython3",
   "version": "3.12.6"
  }
 },
 "nbformat": 4,
 "nbformat_minor": 5
}
