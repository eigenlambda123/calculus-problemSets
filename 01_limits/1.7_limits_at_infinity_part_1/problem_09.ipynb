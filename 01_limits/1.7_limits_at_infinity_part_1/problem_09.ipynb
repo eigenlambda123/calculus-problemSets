{
 "cells": [
  {
   "cell_type": "markdown",
   "id": "ee0a7e49-791f-4fcf-bfba-70a262e312bc",
   "metadata": {},
   "source": [
    "### **Problems**\n",
    "\n",
    "**(a)** Evaluate $\\lim_{x\\to-\\infty} f(x)$ \n",
    "\n",
    "**(b)** Evaluate $\\lim_{x\\to\\infty} f(x)$ \n",
    "\n",
    "**(c)** Write down the equations of horizontal asymptotes for the function.\n",
    "\n",
    "$$f(x) = \\frac{x+8}{\\sqrt{2x^{2}+3}}$$"
   ]
  },
  {
   "cell_type": "markdown",
   "id": "abe48988-1556-4ee6-99a6-1ecdcf275cb9",
   "metadata": {},
   "source": [
    "---\n",
    "\n",
    "### **Solutions**\n",
    "\n",
    "**(a)** $\\lim_{x\\to-\\infty} f(x)$ \n",
    "$$\n",
    "\\lim_{x\\to -\\infty} \\frac{x+8}{\\sqrt{2x^{2}+3}}\n",
    "= \\lim_{x\\to -\\infty} \\frac{x\\left(1+\\tfrac{8}{x}\\right)}{|x|\\sqrt{2+\\tfrac{3}{x^{2}}}}.\n",
    "$$\n",
    "For $x\\to -\\infty$ we have $x<0$, so $|x|=-x$. Thus\n",
    "$$\n",
    "\\lim_{x\\to -\\infty} f(x)\n",
    "= \\lim_{x\\to -\\infty} \\frac{x\\left(1+\\tfrac{8}{x}\\right)}{-x\\sqrt{2+\\tfrac{3}{x^{2}}}}\n",
    "= \\lim_{x\\to -\\infty} \\frac{1+\\tfrac{8}{x}}{-\\sqrt{2+\\tfrac{3}{x^{2}}}}.\n",
    "$$\n",
    "As $x\\to -\\infty$, the small terms vanish, so\n",
    "$$\n",
    "\\lim_{x\\to -\\infty} f(x) = \\frac{1}{-\\sqrt{2}} = \\boxed{-\\frac{1}{\\sqrt{2}}}\n",
    "$$\n",
    "\n",
    "\n",
    "**(b)** $\\lim_{x\\to\\infty} f(x)$ \n",
    "$$\n",
    "\\lim_{x\\to \\infty} \\frac{x+8}{\\sqrt{2x^{2}+3}}\n",
    "= \\lim_{x\\to \\infty} \\frac{x\\left(1+\\tfrac{8}{x}\\right)}{|x|\\sqrt{2+\\tfrac{3}{x^{2}}}}.\n",
    "$$\n",
    "For $x\\to \\infty$ we have $x>0$, so $|x|=x$. Thus\n",
    "$$\n",
    "\\lim_{x\\to \\infty} f(x)\n",
    "= \\lim_{x\\to \\infty} \\frac{x\\left(1+\\tfrac{8}{x}\\right)}{x\\sqrt{2+\\tfrac{3}{x^{2}}}}\n",
    "= \\lim_{x\\to \\infty} \\frac{1+\\tfrac{8}{x}}{\\sqrt{2+\\tfrac{3}{x^{2}}}}.\n",
    "$$\n",
    "As $x\\to \\infty$, the small terms vanish, so\n",
    "$$\n",
    "\\lim_{x\\to \\infty} f(x) = \\boxed{\\frac{1}{\\sqrt{2}}}\n",
    "$$\n",
    "\n",
    "\n",
    "**(c) Horizontal Asymptotes**\n",
    "\n",
    "The one-sided limits are\n",
    "$$\n",
    "\\lim_{x\\to -\\infty} f(x)=-\\frac{1}{\\sqrt{2}},\\qquad\n",
    "\\lim_{x\\to \\infty} f(x)=\\frac{1}{\\sqrt{2}}.\n",
    "$$\n",
    "\n",
    "Therefore, the function has the horizontal asymptotes\n",
    "$$\n",
    "\\boxed{y=-\\frac{1}{\\sqrt{2}}\\quad (x\\to -\\infty),\\qquad y=\\frac{1}{\\sqrt{2}}\\quad (x\\to \\infty)}\n",
    "$$\n"
   ]
  }
 ],
 "metadata": {
  "kernelspec": {
   "display_name": "Python 3 (ipykernel)",
   "language": "python",
   "name": "python3"
  },
  "language_info": {
   "codemirror_mode": {
    "name": "ipython",
    "version": 3
   },
   "file_extension": ".py",
   "mimetype": "text/x-python",
   "name": "python",
   "nbconvert_exporter": "python",
   "pygments_lexer": "ipython3",
   "version": "3.12.6"
  }
 },
 "nbformat": 4,
 "nbformat_minor": 5
}
