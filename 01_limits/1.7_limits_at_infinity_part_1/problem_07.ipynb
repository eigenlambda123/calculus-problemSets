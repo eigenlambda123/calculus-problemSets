{
 "cells": [
  {
   "cell_type": "markdown",
   "id": "1af7a9bc-fbeb-4056-9af2-5e89199bd84d",
   "metadata": {},
   "source": [
    "### **Problems**\n",
    "\n",
    "**(a)** Evaluate $\\lim_{x\\to-\\infty} f(x)$ \n",
    "**(b)** Evaluate $\\lim_{x\\to\\infty} f(x)$ \n",
    "**(c)** Write down the equations of horizontal asymptotes for the function.\n",
    "\n",
    "$$f(x) = \\frac{x^{6}-x^{4}+x^{2}-1}{7x^{6}-4x^{3}+10}$$"
   ]
  },
  {
   "cell_type": "markdown",
   "id": "3069ea10-0f79-4749-928f-b19c6ca5de8d",
   "metadata": {},
   "source": [
    "---\n",
    "### **Solutions**\n",
    "\n",
    "**(a)** $\\lim_{x\\to-\\infty} f(x)$ \n",
    "$$\n",
    "\\lim_{x\\to -\\infty} \\frac{x^{6}-x^{4}+x^{2}-1}{7x^{6}-4x^{3}+10}\n",
    "= \\lim_{x\\to -\\infty} \\frac{x^{6}\\!\\left(1 - \\tfrac{1}{x^{2}} + \\tfrac{1}{x^{4}} - \\tfrac{1}{x^{6}}\\right)}{x^{6}\\!\\left(7 - \\tfrac{4}{x^{3}} + \\tfrac{10}{x^{6}}\\right)}\n",
    "= \\lim_{x\\to -\\infty} \\frac{1 - \\tfrac{1}{x^{2}} + \\tfrac{1}{x^{4}} - \\tfrac{1}{x^{6}}}{7 - \\tfrac{4}{x^{3}} + \\tfrac{10}{x^{6}}}.\n",
    "$$\n",
    "\n",
    "As $x\\to -\\infty$, the terms with negative powers ($\\tfrac{1}{x^2},\\tfrac{1}{x^3},\\ldots$) vanish, so\n",
    "$$\n",
    "\\lim_{x\\to -\\infty} f(x) = \\boxed{\\frac{1}{7}}\n",
    "$$\n",
    "\n",
    "\n",
    "**(b)** $\\lim_{x\\to\\infty} f(x)$ \n",
    "$$\n",
    "\\lim_{x\\to \\infty} \\frac{x^{6}-x^{4}+x^{2}-1}{7x^{6}-4x^{3}+10}\n",
    "= \\lim_{x\\to \\infty} \\frac{x^{6}\\!\\left(1 - \\tfrac{1}{x^{2}} + \\tfrac{1}{x^{4}} - \\tfrac{1}{x^{6}}\\right)}{x^{6}\\!\\left(7 - \\tfrac{4}{x^{3}} + \\tfrac{10}{x^{6}}\\right)}\n",
    "= \\lim_{x\\to \\infty} \\frac{1 - \\tfrac{1}{x^{2}} + \\tfrac{1}{x^{4}} - \\tfrac{1}{x^{6}}}{7 - \\tfrac{4}{x^{3}} + \\tfrac{10}{x^{6}}}.\n",
    "$$\n",
    "\n",
    "As $x\\to \\infty$, the small terms vanish likewise, so\n",
    "$$\n",
    "\\lim_{x\\to \\infty} f(x) = \\boxed{\\frac{1}{7}}\n",
    "$$\n",
    "\n",
    "\n",
    "**(c) Horizontal Asymptotes**\n",
    "\n",
    "Both one-sided limits equal $\\dfrac{1}{7}$, therefore the function has the horizontal asymptote\n",
    "\n",
    "$$\n",
    "y=\\frac{1}{7}.\n",
    "$$\n"
   ]
  }
 ],
 "metadata": {
  "kernelspec": {
   "display_name": "Python 3 (ipykernel)",
   "language": "python",
   "name": "python3"
  },
  "language_info": {
   "codemirror_mode": {
    "name": "ipython",
    "version": 3
   },
   "file_extension": ".py",
   "mimetype": "text/x-python",
   "name": "python",
   "nbconvert_exporter": "python",
   "pygments_lexer": "ipython3",
   "version": "3.12.6"
  }
 },
 "nbformat": 4,
 "nbformat_minor": 5
}
