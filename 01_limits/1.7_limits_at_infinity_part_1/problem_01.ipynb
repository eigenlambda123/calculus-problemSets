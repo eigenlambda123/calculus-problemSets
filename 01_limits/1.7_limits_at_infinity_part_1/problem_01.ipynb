{
 "cells": [
  {
   "cell_type": "markdown",
   "id": "618768eb-78bc-48ac-8290-c2345ac666b1",
   "metadata": {},
   "source": [
    "### **Problem**\n",
    "\n",
    "$1. \\text{For } f(x) = 4x^7 - 18x^3 + 9 \\text{ evaluate each of the following limits.}$\n",
    "\n",
    "(a) $\\lim_{x \\to -\\infty} f(x)$  \n",
    "(b) $\\lim_{x \\to \\infty} f(x)$\n"
   ]
  },
  {
   "cell_type": "markdown",
   "id": "592f13f6-8c90-42d8-b403-88035ca5a0bd",
   "metadata": {},
   "source": [
    "\n",
    "---\n",
    "\n",
    "### **Solutions**\n",
    "\n",
    "(a) $\\lim_{x \\to -\\infty} 4x^7 - 18x^3 + 9$  \n",
    "\n",
    "$$\n",
    "\\begin{aligned}\n",
    "\\lim_{x \\to -\\infty} (4x^7 - 18x^3 + 9) &= \\lim_{x \\to -\\infty} \\left[ x^7 \\left( 4 - \\frac{18}{x^4} + \\frac{9}{x^7} \\right) \\right] \\\\\n",
    "&= \\left( \\lim_{x \\to -\\infty} x^7 \\right) \\cdot \\left( \\lim_{x \\to -\\infty} \\left( 4 - \\frac{18}{x^4} + \\frac{9}{x^7} \\right) \\right) \\\\\n",
    "&= (-\\infty) \\cdot (4 - 0 + 0) \\\\\n",
    "&= \\boxed{-\\infty}\n",
    "\\end{aligned}\n",
    "$$\n",
    "\n",
    "(a) $\\lim_{x \\to \\infty} 4x^7 - 18x^3 + 9$  \n",
    "$$\n",
    "\\begin{aligned}\n",
    "\\lim_{x \\to \\infty} (4x^7 - 18x^3 + 9) &= \\lim_{x \\to \\infty} \\left[ x^7 \\left( 4 - \\frac{18}{x^4} + \\frac{9}{x^7} \\right) \\right] \\\\\n",
    "&= \\left( \\lim_{x \\to \\infty} x^7 \\right) \\cdot \\left( \\lim_{x \\to \\infty} \\left( 4 - \\frac{18}{x^4} + \\frac{9}{x^7} \\right) \\right) \\\\\n",
    "&= (\\infty) \\cdot (4 - 0 + 0) \\\\\n",
    "&= \\boxed{\\infty}\n",
    "\\end{aligned}\n",
    "$$\n"
   ]
  }
 ],
 "metadata": {
  "kernelspec": {
   "display_name": "Python 3 (ipykernel)",
   "language": "python",
   "name": "python3"
  },
  "language_info": {
   "codemirror_mode": {
    "name": "ipython",
    "version": 3
   },
   "file_extension": ".py",
   "mimetype": "text/x-python",
   "name": "python",
   "nbconvert_exporter": "python",
   "pygments_lexer": "ipython3",
   "version": "3.12.6"
  }
 },
 "nbformat": 4,
 "nbformat_minor": 5
}
