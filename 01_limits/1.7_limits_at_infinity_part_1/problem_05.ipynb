{
 "cells": [
  {
   "cell_type": "markdown",
   "id": "3f5483ef-bd98-4326-92a0-6480ce6a1105",
   "metadata": {},
   "source": [
    "### **Problems**\n",
    "\n",
    "**(a)** Evaluate $\\lim_{x\\to-\\infty} f(x)$ \n",
    "**(b)** Evaluate $\\lim_{x\\to\\infty} f(x)$ \n",
    "**(c)** Write down the equations of horizontal asymptotes for the function.\n",
    "\n",
    "$$f(x) = \\frac{20x^{4}-7x^{3}}{2x+9x^{2}+5x^{4}}$$"
   ]
  },
  {
   "cell_type": "markdown",
   "id": "712dca07-d9a6-4fa2-bbc6-a5ca6e4c0432",
   "metadata": {},
   "source": [
    "\n",
    "---\n",
    "\n",
    "### **Solutions**\n",
    "\n",
    "**(a)**  $\\lim_{x\\to-\\infty} f(x)$ \n",
    "$$\n",
    "\\lim_{x\\to -\\infty} \\frac{20x^{4}-7x^{3}}{2x+9x^{2}+5x^{4}}\n",
    "= \\lim_{x\\to -\\infty} \\frac{x^{4}\\left(20-\\tfrac{7}{x}\\right)}{x^{4}\\left(\\tfrac{2}{x^{3}}+\\tfrac{9}{x^{2}}+5\\right)}\n",
    "= \\lim_{x\\to -\\infty} \\frac{20-\\tfrac{7}{x}}{\\tfrac{2}{x^{3}}+\\tfrac{9}{x^{2}}+5}.\n",
    "$$\n",
    "\n",
    "As $x\\to -\\infty$, the terms with $\\tfrac{1}{x}, \\tfrac{1}{x^{2}}, \\tfrac{1}{x^{3}}$ vanish, so\n",
    "\n",
    "$$\n",
    "\\lim_{x\\to -\\infty} f(x) = \\frac{20}{5} = \\boxed{4}\n",
    "$$\n",
    "\n",
    "\n",
    "**(b)**  $\\lim_{x\\to\\infty} f(x)$ \n",
    "$$\n",
    "\\lim_{x\\to \\infty} \\frac{20x^{4}-7x^{3}}{2x+9x^{2}+5x^{4}}\n",
    "= \\lim_{x\\to \\infty} \\frac{x^{4}\\left(20-\\tfrac{7}{x}\\right)}{x^{4}\\left(\\tfrac{2}{x^{3}}+\\tfrac{9}{x^{2}}+5\\right)}\n",
    "= \\lim_{x\\to \\infty} \\frac{20-\\tfrac{7}{x}}{\\tfrac{2}{x^{3}}+\\tfrac{9}{x^{2}}+5}.\n",
    "$$\n",
    "\n",
    "As $x\\to \\infty$, the terms with $\\tfrac{1}{x}, \\tfrac{1}{x^{2}}, \\tfrac{1}{x^{3}}$ vanish, so\n",
    "\n",
    "$$\n",
    "\\lim_{x\\to \\infty} f(x) = \\frac{20}{5} = \\boxed{4}\n",
    "$$\n",
    "\n",
    "\n",
    "**(c) Horizontal Asymptotes**\n",
    "\n",
    "Since both one-sided limits equal $4$, the function has the horizontal asymptote\n",
    "\n",
    "$$\n",
    "y = 4.\n",
    "$$\n"
   ]
  }
 ],
 "metadata": {
  "kernelspec": {
   "display_name": "Python 3 (ipykernel)",
   "language": "python",
   "name": "python3"
  },
  "language_info": {
   "codemirror_mode": {
    "name": "ipython",
    "version": 3
   },
   "file_extension": ".py",
   "mimetype": "text/x-python",
   "name": "python",
   "nbconvert_exporter": "python",
   "pygments_lexer": "ipython3",
   "version": "3.12.6"
  }
 },
 "nbformat": 4,
 "nbformat_minor": 5
}
