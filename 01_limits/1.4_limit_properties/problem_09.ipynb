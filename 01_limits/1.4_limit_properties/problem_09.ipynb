{
 "cells": [
  {
   "cell_type": "markdown",
   "id": "a7285511-eec3-4192-8d3f-d7e5b9a1461a",
   "metadata": {},
   "source": [
    "### **Problem**\n",
    "\n",
    "- Compute the following limit using limit properties. At each step, clearly indicate the property being used. If not possible to compute, explain why.\n",
    "\n",
    "$$\n",
    "\\lim_{x \\to 10} \\left( 4x + \\sqrt[3]{x - 2} \\right)\n",
    "$$\n",
    "\n",
    "---\n"
   ]
  },
  {
   "cell_type": "markdown",
   "id": "516c9477-1c03-488b-9989-7fd85ef6ddae",
   "metadata": {},
   "source": [
    "\n",
    "\n",
    "### **Solution**\n",
    "\n",
    "1. **Sum Rule**:  \n",
    "\n",
    "The limit of a sum is the sum of the limits:  \n",
    "$$\n",
    "\\lim_{x \\to 10} \\left( 4x + \\sqrt[3]{x - 2} \\right)\n",
    "= \\lim_{x \\to 10} 4x + \\lim_{x \\to 10} \\sqrt[3]{x - 2}\n",
    "$$\n",
    "\n",
    "2. **Constant Multiple Rule** (First Term):  \n",
    "\n",
    "$$\n",
    "\\lim_{x \\to 10} 4x = 4 \\cdot \\lim_{x \\to 10} x\n",
    "$$\n",
    "\n",
    "3. **Direct Substitution** (First Term):  \n",
    "\n",
    "$$\n",
    "\\lim_{x \\to 10} x = 10 \\quad \\Rightarrow \\quad \\lim_{x \\to 10} 4x = 4(10) = 40\n",
    "$$\n",
    "\n",
    "4. **Direct Substitution (Inside the Cube Root)** (Second Term):  \n",
    "\n",
    "$$\n",
    "\\lim_{x \\to 10} (x - 2) = 10 - 2 = 8\n",
    "$$\n",
    "\n",
    "5. **Continuity of the Cube Root Function** (Second Term):  \n",
    "\n",
    "Since $\\sqrt[3]{u}$ is continuous for all real numbers,  \n",
    "$$\n",
    "\\lim_{x \\to 10} \\sqrt[3]{x - 2}\n",
    "= \\sqrt[3]{\\lim_{x \\to 10} (x - 2)}\n",
    "= \\sqrt[3]{8}\n",
    "$$\n",
    "\n",
    "6. **Compute the Final Limit**:  \n",
    "$$\n",
    "= 40 + \\sqrt[3]{8}\n",
    "$$  \n",
    "$$\n",
    "= 40 + 2\n",
    "$$  \n",
    "$$\n",
    "\\boxed{42}\n",
    "$$"
   ]
  }
 ],
 "metadata": {
  "kernelspec": {
   "display_name": "Python 3 (ipykernel)",
   "language": "python",
   "name": "python3"
  },
  "language_info": {
   "codemirror_mode": {
    "name": "ipython",
    "version": 3
   },
   "file_extension": ".py",
   "mimetype": "text/x-python",
   "name": "python",
   "nbconvert_exporter": "python",
   "pygments_lexer": "ipython3",
   "version": "3.12.6"
  }
 },
 "nbformat": 4,
 "nbformat_minor": 5
}
