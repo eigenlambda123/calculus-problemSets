{
 "cells": [
  {
   "cell_type": "markdown",
   "id": "449bacd4-d19f-4f64-b4c3-5318a4d8327f",
   "metadata": {},
   "source": [
    "### **Problem**\n",
    "\n",
    "- Compute the following limit using limit properties. At each step, clearly indicate the property being used. If not possible to compute, explain why.  \n",
    "\n",
    "$$\n",
    "\\lim_{x \\to 6} \\left( 3x^{2} + 7x - 16 \\right)\n",
    "$$\n"
   ]
  },
  {
   "cell_type": "markdown",
   "id": "30ab52b2-5546-446d-9954-11e537498bdd",
   "metadata": {},
   "source": [
    "\n",
    "---\n",
    "\n",
    "### **Solution**\n",
    "\n",
    "1. **Sum/Difference Rule**:  \n",
    "$$\n",
    "\\lim_{x \\to 6} \\left( 3x^{2} + 7x - 16 \\right)\n",
    "= \\lim_{x \\to 6} 3x^{2} + \\lim_{x \\to 6} 7x - \\lim_{x \\to 6} 16\n",
    "$$\n",
    "\n",
    "2. **Constant Multiple Rule**:  \n",
    "$$\n",
    "\\lim_{x \\to 6} 3x^{2} = 3 \\cdot \\lim_{x \\to 6} x^{2}\n",
    "$$  \n",
    "$$\n",
    "\\lim_{x \\to 6} 7x = 7 \\cdot \\lim_{x \\to 6} x\n",
    "$$\n",
    "\n",
    "3. **Constant Rule**:  \n",
    "$$\n",
    "\\lim_{x \\to 6} 16 = 16\n",
    "$$\n",
    "\n",
    "4. **Direct Substitution**:  \n",
    "$$\n",
    "\\lim_{x \\to 6} x^{2} = (6)^{2} = 36\n",
    "$$  \n",
    "$$\n",
    "\\lim_{x \\to 6} x = 6\n",
    "$$\n",
    "\n",
    "5. **Compute**:  \n",
    "$$\n",
    "= 3(36) + 7(6) - 16\n",
    "$$  \n",
    "$$\n",
    "= 108 + 42 - 16\n",
    "$$  \n",
    "$$\n",
    "= 134\n",
    "$$\n",
    "\n",
    "$$\n",
    "\\boxed{134}\n",
    "$$\n"
   ]
  }
 ],
 "metadata": {
  "kernelspec": {
   "display_name": "Python 3 (ipykernel)",
   "language": "python",
   "name": "python3"
  },
  "language_info": {
   "codemirror_mode": {
    "name": "ipython",
    "version": 3
   },
   "file_extension": ".py",
   "mimetype": "text/x-python",
   "name": "python",
   "nbconvert_exporter": "python",
   "pygments_lexer": "ipython3",
   "version": "3.12.6"
  }
 },
 "nbformat": 4,
 "nbformat_minor": 5
}
