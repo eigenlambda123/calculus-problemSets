{
 "cells": [
  {
   "cell_type": "markdown",
   "id": "4a591311-9c89-4ab4-b93f-0cd267bebc61",
   "metadata": {},
   "source": [
    "### **Problem**\n",
    "\n",
    "Given:\n",
    "$$\n",
    "\\lim_{x \\to -4} f(x) = 1,\\quad \\lim_{x \\to -4} g(x) = 10,\\quad \\lim_{x \\to -4} h(x) = -7\n",
    "$$\n",
    "\n",
    "Compute the following limits using limit properties. If not possible, explain why.\n",
    "\n",
    "**(a)** $\\lim_{x \\to -4} \\left[ \\frac{f(x)}{g(x)} - \\frac{h(x)}{f(x)} \\right]$\n",
    "\n",
    "**(b)** $\\lim_{x \\to -4} [f(x) \\, g(x) \\, h(x)]$\n",
    "\n",
    "**(c)** $\\lim_{x \\to -4} \\left[ \\frac{1}{h(x)} + \\frac{3 - f(x)}{g(x) + h(x)} \\right]$\n",
    "\n",
    "**(d)** $\\lim_{x \\to -4} \\left[ 2h(x) - \\frac{1}{h(x) + 7f(x)} \\right]$\n",
    "\n",
    "---\n"
   ]
  },
  {
   "cell_type": "markdown",
   "id": "fe71ef60-93f4-4bf2-ad44-6238b2461f78",
   "metadata": {},
   "source": [
    "### **Solution**\n",
    "\n",
    "**(a)** $\\lim_{x \\to -4} \\left[ \\frac{f(x)}{g(x)} - \\frac{h(x)}{f(x)} \\right]$\n",
    "\n",
    "$$= \\frac{\\lim_{x \\to -4} f(x)}{\\lim_{x \\to -4} g(x)} - \\frac{\\lim_{x \\to -4} h(x)}{\\lim_{x \\to -4} f(x)}$$\n",
    "\n",
    "$$= \\frac{1}{10} - \\frac{-7}{1}$$\n",
    "\n",
    "$$= 0.1 + 7$$\n",
    "\n",
    "$$\\boxed{7.1}$$\n",
    "\n",
    "**(b)** $\\lim_{x \\to -4} [f(x) \\, g(x) \\, h(x)]$\n",
    "\n",
    "$$= \\lim_{x \\to -4} f(x) \\cdot \\lim_{x \\to -4} g(x) \\cdot \\lim_{x \\to -4} h(x)$$\n",
    "\n",
    "$$= 1 \\cdot 10 \\cdot (-7)$$\n",
    "\n",
    "$$\\boxed{-70}$$\n",
    "\n",
    "**(c)** $\\lim_{x \\to -4} \\left[ \\frac{1}{h(x)} + \\frac{3 - f(x)}{g(x) + h(x)} \\right]$\n",
    "\n",
    "$$\\frac{1}{\\lim_{x \\to -4} h(x)} = \\frac{1}{-7}$$\n",
    "$$\\frac{3 - \\lim_{x \\to -4} f(x)}{\\lim_{x \\to -4} g(x) + \\lim_{x \\to -4} h(x)} = \\frac{3 - 1}{10 + (-7)} = \\frac{2}{3}$$\n",
    "\n",
    "$$-\\frac{1}{7} + \\frac{2}{3} = \\frac{-3 + 14}{21}$$\n",
    "\n",
    "$$\\boxed{\\frac{11}{21}}$$\n",
    "\n",
    "**(d)** $\\lim_{x \\to -4} \\left[ 2h(x) - \\frac{1}{h(x) + 7f(x)} \\right]$\n",
    "$$2\\lim_{x \\to -4} h(x) = 2(-7) = -14$$\n",
    "\n",
    "$$\\lim_{x \\to -4} h(x) + 7\\lim_{x \\to -4} f(x) = -7 + 7(1) = 0$$\n",
    "\n",
    "$$\\boxed{\\text{DNE}}$$\n"
   ]
  }
 ],
 "metadata": {
  "kernelspec": {
   "display_name": "Python 3 (ipykernel)",
   "language": "python",
   "name": "python3"
  },
  "language_info": {
   "codemirror_mode": {
    "name": "ipython",
    "version": 3
   },
   "file_extension": ".py",
   "mimetype": "text/x-python",
   "name": "python",
   "nbconvert_exporter": "python",
   "pygments_lexer": "ipython3",
   "version": "3.12.6"
  }
 },
 "nbformat": 4,
 "nbformat_minor": 5
}
