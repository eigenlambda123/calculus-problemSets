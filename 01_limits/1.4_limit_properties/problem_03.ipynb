{
 "cells": [
  {
   "cell_type": "markdown",
   "id": "05dedfa0-a996-46f4-860d-30d125ac1556",
   "metadata": {},
   "source": [
    "### **Problems**\n",
    "\n",
    "Given:\n",
    "$$\n",
    "\\lim_{x \\to 0} f(x) = 6,\\quad \\lim_{x \\to 0} g(x) = -4,\\quad \\lim_{x \\to 0} h(x) = -1\n",
    "$$\n",
    "\n",
    "Compute the following limits using limit properties. If not possible, explain why.\n",
    "\n",
    "**(a)** $\\lim_{x \\to 0} [f(x) + h(x)]^3$\n",
    "\n",
    "**(b)** $\\lim_{x \\to 0} \\sqrt{g(x) h(x)}$\n",
    "\n",
    "**(c)** $\\lim_{x \\to 0} \\sqrt[3]{11 + [g(x)]^2}$\n",
    "\n",
    "**(d)** $\\lim_{x \\to 0} \\sqrt{\\frac{f(x)}{h(x) - g(x)}}$\n",
    "\n",
    "---"
   ]
  },
  {
   "cell_type": "markdown",
   "id": "ce3355d8-f09a-4af6-a7c2-996fc67aa04c",
   "metadata": {},
   "source": [
    "### **Solutions**\n",
    "\n",
    "**(a)** $\\lim_{x \\to 0} [f(x) + h(x)]^3$\n",
    "\n",
    "$$= \\left[\\lim_{x \\to 0} f(x) + \\lim_{x \\to 0} h(x)\\right]^3$$\n",
    "\n",
    "$$= [6 + (-1)]^3$$\n",
    "\n",
    "$$= 5^3$$\n",
    "\n",
    "$$\\boxed{125}$$\n",
    "\n",
    "**(b)** $\\lim_{x \\to 0} \\sqrt{g(x) h(x)}$\n",
    "\n",
    "$$= \\sqrt{\\lim_{x \\to 0} g(x) \\cdot \\lim_{x \\to 0} h(x)}$$\n",
    "\n",
    "$$= \\sqrt{(-4) \\cdot (-1)}$$\n",
    "\n",
    "$$= \\sqrt{4}$$\n",
    "\n",
    "$$\\boxed{2}$$\n",
    "\n",
    "**(c)** $\\lim_{x \\to 0} \\sqrt[3]{11 + [g(x)]^2}$\n",
    "\n",
    "$$= \\sqrt[3]{11 + \\left[\\lim_{x \\to 0} g(x)\\right]^2}$$\n",
    "\n",
    "$$= \\sqrt[3]{11 + (-4)^2}$$\n",
    "\n",
    "$$= \\sqrt[3]{11 + 16}$$\n",
    "\n",
    "$$= \\sqrt[3]{27}$$\n",
    "\n",
    "$$\\boxed{3}$$\n",
    "\n",
    "**(d)** $\\lim_{x \\to 0} \\sqrt{\\frac{f(x)}{h(x) - g(x)}}$\n",
    "\n",
    "Numerator:\n",
    "$$\\lim_{x \\to 0} f(x) = 6$$\n",
    "\n",
    "Denominator:\n",
    "$$\\lim_{x \\to 0} h(x) - \\lim_{x \\to 0} g(x) = -1 - (-4) = 3$$\n",
    "\n",
    "However, square root of negative is undefined in reals when:\n",
    "$$\\frac{f(x)}{h(x)-g(x)} < 0$$\n",
    "\n",
    "Since $\\frac{6}{3} = 2 > 0$, the limit exists:\n",
    "\n",
    "$$= \\sqrt{\\frac{6}{3}}$$\n",
    "\n",
    "$$= \\sqrt{2}$$\n",
    "\n",
    "$$\\boxed{\\sqrt{2}}$$"
   ]
  }
 ],
 "metadata": {
  "kernelspec": {
   "display_name": "Python 3 (ipykernel)",
   "language": "python",
   "name": "python3"
  },
  "language_info": {
   "codemirror_mode": {
    "name": "ipython",
    "version": 3
   },
   "file_extension": ".py",
   "mimetype": "text/x-python",
   "name": "python",
   "nbconvert_exporter": "python",
   "pygments_lexer": "ipython3",
   "version": "3.12.6"
  }
 },
 "nbformat": 4,
 "nbformat_minor": 5
}
