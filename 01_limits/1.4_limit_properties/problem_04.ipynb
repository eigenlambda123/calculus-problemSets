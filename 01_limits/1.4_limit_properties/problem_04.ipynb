{
 "cells": [
  {
   "cell_type": "markdown",
   "id": "fc7d1c8a-5bd2-4211-b655-7fd7b4ee10b9",
   "metadata": {},
   "source": [
    "### **Problem**\n",
    "\n",
    "- Compute the following limit using limit properties. At each step, clearly indicate the property being used. If not possible to compute, explain why.\n",
    "  \n",
    "$$\\lim_{t \\to -2} (14 - 6t + t^3)$$\n",
    "\n",
    "---"
   ]
  },
  {
   "cell_type": "markdown",
   "id": "730c568a-4620-403e-94b3-538f40ddb39b",
   "metadata": {},
   "source": [
    "### **Solution**\n",
    "\n",
    "1. **Sum/Difference Rule**:  \n",
    "   $$\\lim_{t \\to -2} (14 - 6t + t^3) = \\lim_{t \\to -2} 14 - \\lim_{t \\to -2} 6t + \\lim_{t \\to -2} t^3$$\n",
    "\n",
    "2. **Constant Rule**:  \n",
    "   $$\\lim_{t \\to -2} 14 = 14$$\n",
    "\n",
    "3. **Constant Multiple Rule**:  \n",
    "   $$\\lim_{t \\to -2} 6t = 6 \\cdot \\lim_{t \\to -2} t$$\n",
    "\n",
    "4. **Direct Substitution**:  \n",
    "   $$\\lim_{t \\to -2} t = -2$$  \n",
    "   $$\\lim_{t \\to -2} t^3 = (-2)^3$$\n",
    "\n",
    "5. **Compute**:  \n",
    "   $$= 14 - 6(-2) + (-2)^3$$  \n",
    "   $$= 14 + 12 - 8$$  \n",
    "   $$= 18$$\n",
    "\n",
    "$$\\boxed{18}$$"
   ]
  }
 ],
 "metadata": {
  "kernelspec": {
   "display_name": "Python 3 (ipykernel)",
   "language": "python",
   "name": "python3"
  },
  "language_info": {
   "codemirror_mode": {
    "name": "ipython",
    "version": 3
   },
   "file_extension": ".py",
   "mimetype": "text/x-python",
   "name": "python",
   "nbconvert_exporter": "python",
   "pygments_lexer": "ipython3",
   "version": "3.12.6"
  }
 },
 "nbformat": 4,
 "nbformat_minor": 5
}
