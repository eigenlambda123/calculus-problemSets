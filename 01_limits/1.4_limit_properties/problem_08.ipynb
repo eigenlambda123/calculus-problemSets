{
 "cells": [
  {
   "cell_type": "markdown",
   "id": "c5639297-7474-4e3e-bc7b-d5027eec2113",
   "metadata": {},
   "source": [
    "### **Problem**\n",
    "\n",
    "- Compute the following limit using limit properties. At each step, clearly indicate the property being used. If not possible to compute, explain why.\n",
    "\n",
    "$$\n",
    "\\lim_{z \\to 0} \\sqrt{z^{2} + 6}\n",
    "$$\n",
    "\n",
    "---\n"
   ]
  },
  {
   "cell_type": "markdown",
   "id": "0c5ff3b7-244f-4218-b83b-b9021675b93a",
   "metadata": {},
   "source": [
    "\n",
    "### **Solution**\n",
    "\n",
    "1. **Sum Rule (inside the root)**:  \n",
    "\n",
    "$$\n",
    "\\lim_{z \\to 0} (z^{2} + 6)\n",
    "= \\lim_{z \\to 0} z^{2} + \\lim_{z \\to 0} 6\n",
    "$$\n",
    "\n",
    "2. **Power Rule & Constant Rule (Direct Substitution)**:  \n",
    "\n",
    "$$\n",
    "\\lim_{z \\to 0} z^{2} = (0)^{2} = 0, \n",
    "\\qquad\n",
    "\\lim_{z \\to 0} 6 = 6\n",
    "$$\n",
    "Hence,\n",
    "$$\n",
    "\\lim_{z \\to 0} (z^{2} + 6) = 0 + 6 = 6\n",
    "$$\n",
    "\n",
    "3. **Continuity / Function Limit Law (Square Root)**:  \n",
    "\n",
    "Since $\\sqrt{x}$ is continuous for $x \\ge 0$ and the inner limit is $6 \\ge 0$,  \n",
    "$$\n",
    "\\lim_{z \\to 0} \\sqrt{z^{2} + 6}\n",
    "= \\sqrt{\\lim_{z \\to 0} (z^{2} + 6)}\n",
    "= \\sqrt{6}\n",
    "$$\n",
    "\n",
    "$$\n",
    "\\boxed{\\sqrt{6}}\n",
    "$$"
   ]
  }
 ],
 "metadata": {
  "kernelspec": {
   "display_name": "Python 3 (ipykernel)",
   "language": "python",
   "name": "python3"
  },
  "language_info": {
   "codemirror_mode": {
    "name": "ipython",
    "version": 3
   },
   "file_extension": ".py",
   "mimetype": "text/x-python",
   "name": "python",
   "nbconvert_exporter": "python",
   "pygments_lexer": "ipython3",
   "version": "3.12.6"
  }
 },
 "nbformat": 4,
 "nbformat_minor": 5
}
