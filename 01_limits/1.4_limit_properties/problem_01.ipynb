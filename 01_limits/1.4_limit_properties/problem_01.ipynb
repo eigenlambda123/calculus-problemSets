{
 "cells": [
  {
   "cell_type": "markdown",
   "id": "a562a983-0900-4121-8701-abbfd2c43f22",
   "metadata": {},
   "source": [
    "### **Problems**\n",
    "\n",
    "Given:\n",
    "$$\n",
    "\\lim_{x \\to 8} f(x) = -9,\\quad \\lim_{x \\to 8} g(x) = 2,\\quad \\lim_{x \\to 8} h(x) = 4\n",
    "$$\n",
    "\n",
    "Compute the following limits using limit properties. If not possible, explain why.\n",
    "\n",
    "**(a)** $\\lim_{x \\to 8} [2f(x) - 12h(x)]$\n",
    "\n",
    "**(b)** $\\lim_{x \\to 8} [3h(x) - 6]$\n",
    "\n",
    "**(c)** $\\lim_{x \\to 8} [g(x)h(x) - f(x)]$\n",
    "\n",
    "**(d)** $\\lim_{x \\to 8} [f(x) - g(x) + h(x)]$\n",
    "\n",
    "---\n"
   ]
  },
  {
   "cell_type": "markdown",
   "id": "9da5dcd8-7e0d-4627-a47b-62a040b86b2a",
   "metadata": {},
   "source": [
    "### **Solutions**\n",
    "\n",
    "**(a)** $\\lim_{x \\to 8} [2f(x) - 12h(x)]$\n",
    "\n",
    "$$= 2\\lim_{x \\to 8} f(x) - 12\\lim_{x \\to 8} h(x)$$\n",
    "\n",
    "$$= 2(-9) - 12(4)$$\n",
    "\n",
    "$$= -18 - 48$$\n",
    "\n",
    "$$\\boxed{-66}$$\n",
    "\n",
    "**(b)** $\\lim_{x \\to 8} [3h(x) - 6]$\n",
    "\n",
    "$$= 3\\lim_{x \\to 8} h(x) - 6$$\n",
    "\n",
    "$$= 3(4) - 6$$\n",
    "\n",
    "$$= 12 - 6$$\n",
    "\n",
    "$$\\boxed{6}$$\n",
    "\n",
    "**(c)** $\\lim_{x \\to 8} [g(x)h(x) - f(x)]$\n",
    "\n",
    "$$= \\lim_{x \\to 8} g(x)\\cdot\\lim_{x \\to 8} h(x) - \\lim_{x \\to 8} f(x)$$\n",
    "\n",
    "$$= (2)(4) - (-9)$$\n",
    "\n",
    "$$= 8 + 9$$\n",
    "\n",
    "$$\\boxed{17}$$\n",
    "\n",
    "**(d)** $\\lim_{x \\to 8} [f(x) - g(x) + h(x)]$\n",
    "\n",
    "$$= \\lim_{x \\to 8} f(x) - \\lim_{x \\to 8} g(x) + \\lim_{x \\to 8} h(x)$$\n",
    "\n",
    "$$= -9 - 2 + 4$$\n",
    "\n",
    "$$\\boxed{-7}$$"
   ]
  }
 ],
 "metadata": {
  "kernelspec": {
   "display_name": "Python 3 (ipykernel)",
   "language": "python",
   "name": "python3"
  },
  "language_info": {
   "codemirror_mode": {
    "name": "ipython",
    "version": 3
   },
   "file_extension": ".py",
   "mimetype": "text/x-python",
   "name": "python",
   "nbconvert_exporter": "python",
   "pygments_lexer": "ipython3",
   "version": "3.12.6"
  }
 },
 "nbformat": 4,
 "nbformat_minor": 5
}
